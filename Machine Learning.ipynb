{
 "cells": [
  {
   "cell_type": "markdown",
   "metadata": {},
   "source": [
    "# Machine Learning for the Dementia Prediction Project  \n",
    "Goal: Develop a machine learning model to predict whether a new patient will have or develop dementia based on previous patients.  \n",
    "\n",
    "Methodology:  \n",
    "- Split data into training and testing sets  \n",
    "- Test different machine learning models against each other to determine which has the highest accuracy\n",
    "    - Knearest Neighbor\n",
    "    - Decision Trees\n",
    "    - Logistic Regression  \n",
    "    - Support Vector Machine\n",
    "- Choose one model then perform more rigorous analytics on that model"
   ]
  },
  {
   "cell_type": "code",
   "execution_count": 1,
   "metadata": {},
   "outputs": [],
   "source": [
    "# import libraries\n",
    "import pandas as pd\n",
    "import sqlite3\n",
    "import numpy as np\n",
    "import matplotlib.pyplot as plt\n",
    "from sklearn import preprocessing\n",
    "from sklearn.model_selection import train_test_split\n",
    "from sklearn.neighbors import KNeighborsClassifier\n",
    "from sklearn import metrics\n",
    "from sklearn.tree import DecisionTreeClassifier\n",
    "import sklearn.tree as tree\n",
    "from sklearn.linear_model import LogisticRegression\n",
    "from sklearn import svm\n",
    "from sklearn.metrics import confusion_matrix\n",
    "from sklearn.multiclass import OneVsRestClassifier\n",
    "from sklearn.metrics import accuracy_score\n",
    "from sklearn.svm import SVC\n",
    "from sklearn.model_selection import GridSearchCV\n",
    "from sklearn.metrics import jaccard_score\n",
    "from sklearn.metrics import f1_score\n",
    "from sklearn.metrics import log_loss\n",
    "import seaborn as sns\n",
    "from sklearn.model_selection import cross_val_score\n",
    "from sklearn.model_selection import KFold"
   ]
  },
  {
   "cell_type": "code",
   "execution_count": 2,
   "metadata": {},
   "outputs": [],
   "source": [
    "# get the data from the database\n",
    "conn = sqlite3.connect(\"Dementia.db\")                           # connect to the database\n",
    "query = 'SELECT * FROM Data_Wrangled'                   \n",
    "data_ml = pd.read_sql(query, conn)                    # this will be the main dataframe used "
   ]
  },
  {
   "cell_type": "markdown",
   "metadata": {},
   "source": [
    "**Inputs:**  \n",
    "The inputs are the features that are used to predict the outcome of the patients.  \n",
    "Our inputs are Visit, M/F, Age, Educ, SES, eTIV, nWBV, and ASF  \n",
    "**Output:**  \n",
    "We have three output options for this dataset: Group, MMSE, and CDR.  \n",
    "Group is categorical, where as MMSE and CDR and continous variables.  \n",
    "For the purpose of this analysis, Group will be used as a categorical variable for classification machine learning.  \n",
    "The other two outcome may be anaylzed later. "
   ]
  },
  {
   "cell_type": "code",
   "execution_count": 75,
   "metadata": {},
   "outputs": [],
   "source": [
    "# Define X and Y variables, convert these values from a pandas dataframe into a numpy array\n",
    "XX = data_ml[['Visit','M/F','Age','EDUC','SES','eTIV','nWBV','ASF']].values\n",
    "y = data_ml['Group'].values"
   ]
  },
  {
   "cell_type": "code",
   "execution_count": 76,
   "metadata": {},
   "outputs": [],
   "source": [
    "# Normalize data\n",
    "# standardize the data in X then reassign it to the variable x\n",
    "sc = preprocessing.StandardScaler()\n",
    "sc.fit(XX)\n",
    "X = sc.transform(XX.astype(float))"
   ]
  },
  {
   "cell_type": "code",
   "execution_count": 61,
   "metadata": {},
   "outputs": [
    {
     "name": "stdout",
     "output_type": "stream",
     "text": [
      "Train set: (298, 8) (298,)\n",
      "Test set: (75, 8) (75,)\n"
     ]
    }
   ],
   "source": [
    "# split the data into training and testing sets, test_size = 0.2, random_state=2\n",
    "X_train, X_test, Y_train, Y_test = train_test_split( X, y, test_size=0.2, random_state=42)\n",
    "print ('Train set:', X_train.shape,  Y_train.shape)\n",
    "print ('Test set:', X_test.shape,  Y_test.shape)"
   ]
  },
  {
   "cell_type": "markdown",
   "metadata": {},
   "source": [
    "### K Nearest Neighbor  \n",
    "A method for classifying cases based on their similarity to other cases.  \n",
    "K: Number of neighbors being considered"
   ]
  },
  {
   "cell_type": "code",
   "execution_count": 6,
   "metadata": {},
   "outputs": [
    {
     "name": "stdout",
     "output_type": "stream",
     "text": [
      "tuned hpyerparameters :(best parameters)  {'algorithm': 'auto', 'n_neighbors': 3, 'p': 1}\n",
      "accuracy : 0.7080459770114942\n"
     ]
    }
   ],
   "source": [
    "# create a KNN object\n",
    "parameters = {'n_neighbors': [2, 3, 4, 5, 6, 7, 8, 9, 10,11,12,13,14,15], ## consider replacing with range(2, 16)\n",
    "              'algorithm': ['auto', 'ball_tree', 'kd_tree', 'brute'],\n",
    "              'p': [1,2]}\n",
    "\n",
    "knn = KNeighborsClassifier()\n",
    "grid_search = GridSearchCV(knn, parameters, cv=10)\n",
    "knn_cv = grid_search.fit(X_train, Y_train)\n",
    "\n",
    "print(\"tuned hpyerparameters :(best parameters) \",knn_cv.best_params_)\n",
    "print(\"accuracy :\",knn_cv.best_score_)"
   ]
  },
  {
   "cell_type": "code",
   "execution_count": 7,
   "metadata": {},
   "outputs": [],
   "source": [
    "yhat_knn = knn_cv.predict(X_test)"
   ]
  },
  {
   "cell_type": "code",
   "execution_count": 8,
   "metadata": {},
   "outputs": [
    {
     "data": {
      "text/plain": [
       "0.7066666666666667"
      ]
     },
     "execution_count": 8,
     "metadata": {},
     "output_type": "execute_result"
    }
   ],
   "source": [
    "knn_accuracy = metrics.accuracy_score(Y_test, yhat_knn)\n",
    "knn_accuracy"
   ]
  },
  {
   "cell_type": "markdown",
   "metadata": {},
   "source": [
    "### Decision Trees  \n",
    "Splits the training test set into nodes and maps out all of the possible decision paths in the form of a tree"
   ]
  },
  {
   "cell_type": "code",
   "execution_count": 9,
   "metadata": {},
   "outputs": [
    {
     "name": "stdout",
     "output_type": "stream",
     "text": [
      "tuned hpyerparameters :(best parameters)  {'criterion': 'entropy', 'max_depth': 18, 'max_features': 'sqrt', 'min_samples_leaf': 1, 'min_samples_split': 2, 'splitter': 'best'}\n",
      "accuracy : 0.7249425287356323\n"
     ]
    }
   ],
   "source": [
    "# create a decision tree object\n",
    "parameters = {'criterion': ['gini', 'entropy'],\n",
    "     'splitter': ['best', 'random'],\n",
    "     'max_depth': [2*n for n in range(1,10)],\n",
    "     'max_features': ['sqrt'],\n",
    "     'min_samples_leaf': [1, 2, 4],\n",
    "     'min_samples_split': [2, 5, 10]}\n",
    "\n",
    "tree = DecisionTreeClassifier()\n",
    "grid_search = GridSearchCV(tree, parameters, cv=10)\n",
    "tree_cv = grid_search.fit(X_train, Y_train)\n",
    "\n",
    "print(\"tuned hpyerparameters :(best parameters) \",tree_cv.best_params_)\n",
    "print(\"accuracy :\",tree_cv.best_score_)"
   ]
  },
  {
   "cell_type": "code",
   "execution_count": 10,
   "metadata": {},
   "outputs": [
    {
     "name": "stdout",
     "output_type": "stream",
     "text": [
      "['Demented' 'Demented' 'Nondemented' 'Demented' 'Converted' 'Demented'\n",
      " 'Nondemented' 'Nondemented' 'Nondemented' 'Demented' 'Demented'\n",
      " 'Demented' 'Converted' 'Nondemented' 'Demented' 'Nondemented'\n",
      " 'Nondemented' 'Nondemented' 'Nondemented' 'Converted' 'Nondemented'\n",
      " 'Nondemented' 'Demented' 'Nondemented' 'Nondemented' 'Demented'\n",
      " 'Demented' 'Nondemented' 'Demented' 'Demented' 'Demented' 'Nondemented'\n",
      " 'Nondemented' 'Demented' 'Converted' 'Nondemented' 'Nondemented'\n",
      " 'Demented' 'Demented' 'Nondemented' 'Nondemented' 'Nondemented'\n",
      " 'Nondemented' 'Nondemented' 'Converted' 'Demented' 'Demented'\n",
      " 'Nondemented' 'Nondemented' 'Demented']\n",
      "['Demented' 'Converted' 'Demented' 'Nondemented' 'Converted' 'Demented'\n",
      " 'Demented' 'Nondemented' 'Nondemented' 'Demented' 'Demented' 'Demented'\n",
      " 'Nondemented' 'Nondemented' 'Demented' 'Nondemented' 'Nondemented'\n",
      " 'Demented' 'Nondemented' 'Demented' 'Nondemented' 'Nondemented'\n",
      " 'Demented' 'Demented' 'Nondemented' 'Demented' 'Demented' 'Converted'\n",
      " 'Nondemented' 'Demented' 'Demented' 'Nondemented' 'Nondemented'\n",
      " 'Demented' 'Nondemented' 'Converted' 'Nondemented' 'Nondemented'\n",
      " 'Nondemented' 'Demented' 'Nondemented' 'Converted' 'Nondemented'\n",
      " 'Converted' 'Nondemented' 'Demented' 'Demented' 'Nondemented'\n",
      " 'Nondemented' 'Demented']\n"
     ]
    }
   ],
   "source": [
    "# make predictions on test set\n",
    "yhat_tree = tree_cv.predict(X_test)\n",
    "# compare predictions to actual\n",
    "print (yhat_tree [0:50])\n",
    "print (Y_test [0:50])"
   ]
  },
  {
   "cell_type": "code",
   "execution_count": 11,
   "metadata": {},
   "outputs": [
    {
     "name": "stdout",
     "output_type": "stream",
     "text": [
      "DecisionTrees's Accuracy:  0.6133333333333333\n"
     ]
    }
   ],
   "source": [
    "# check accuracy of model\n",
    "print(\"DecisionTrees's Accuracy: \", metrics.accuracy_score(Y_test, yhat_tree))\n",
    "tree_accuracy = metrics.accuracy_score(Y_test, yhat_tree)"
   ]
  },
  {
   "cell_type": "markdown",
   "metadata": {},
   "source": [
    "### Logistic Regression\n",
    "Logisitic regression provides the probability that the subject will belong to one of the groups"
   ]
  },
  {
   "cell_type": "code",
   "execution_count": 12,
   "metadata": {},
   "outputs": [
    {
     "name": "stdout",
     "output_type": "stream",
     "text": [
      "tuned hpyerparameters :(best parameters)  {'C': 1, 'multi_class': 'ovr', 'penalty': 'l2', 'solver': 'lbfgs'}\n",
      "accuracy : 0.6716091954022988\n"
     ]
    }
   ],
   "source": [
    "# create a logistic regression object\n",
    "# create a grid search cv object with cv =10\n",
    "# fit the object to find the parameters from the dictionary parameters\n",
    "parameters ={'C':[0.001,0.01,0.1,1,10],\n",
    "             'penalty':['l2'],\n",
    "             'solver':['lbfgs', 'liblinear'],\n",
    "             'multi_class':['ovr']}\n",
    "lr=LogisticRegression()\n",
    "grid_search = GridSearchCV(lr, parameters, cv=10)\n",
    "logreg_cv = grid_search.fit(X_train, Y_train)\n",
    "\n",
    "print(\"tuned hpyerparameters :(best parameters) \",logreg_cv.best_params_)\n",
    "print(\"accuracy :\",logreg_cv.best_score_)"
   ]
  },
  {
   "cell_type": "code",
   "execution_count": 13,
   "metadata": {},
   "outputs": [
    {
     "data": {
      "text/plain": [
       "array(['Demented', 'Nondemented', 'Demented', 'Nondemented',\n",
       "       'Nondemented', 'Nondemented', 'Nondemented', 'Nondemented',\n",
       "       'Nondemented', 'Demented', 'Demented', 'Nondemented',\n",
       "       'Nondemented', 'Nondemented', 'Demented', 'Demented',\n",
       "       'Nondemented', 'Demented', 'Nondemented', 'Demented',\n",
       "       'Nondemented', 'Nondemented', 'Demented', 'Demented',\n",
       "       'Nondemented', 'Demented', 'Demented', 'Nondemented', 'Demented',\n",
       "       'Demented', 'Demented', 'Nondemented', 'Nondemented', 'Demented',\n",
       "       'Nondemented', 'Nondemented', 'Nondemented', 'Demented',\n",
       "       'Nondemented', 'Demented', 'Nondemented', 'Nondemented',\n",
       "       'Nondemented', 'Nondemented', 'Nondemented', 'Demented',\n",
       "       'Demented', 'Nondemented', 'Nondemented', 'Demented',\n",
       "       'Nondemented', 'Nondemented', 'Nondemented', 'Nondemented',\n",
       "       'Nondemented', 'Nondemented', 'Nondemented', 'Demented',\n",
       "       'Nondemented', 'Nondemented', 'Nondemented', 'Nondemented',\n",
       "       'Demented', 'Demented', 'Nondemented', 'Demented', 'Demented',\n",
       "       'Nondemented', 'Nondemented', 'Nondemented', 'Nondemented',\n",
       "       'Nondemented', 'Nondemented', 'Nondemented', 'Demented'],\n",
       "      dtype=object)"
      ]
     },
     "execution_count": 13,
     "metadata": {},
     "output_type": "execute_result"
    }
   ],
   "source": [
    "# predict using our test set\n",
    "yhat_logreg = logreg_cv.predict(X_test)\n",
    "yhat_logreg"
   ]
  },
  {
   "cell_type": "code",
   "execution_count": 14,
   "metadata": {},
   "outputs": [
    {
     "data": {
      "text/plain": [
       "array([[0.08907343, 0.81792895, 0.09299762],\n",
       "       [0.20663978, 0.30557856, 0.48778166],\n",
       "       [0.05774063, 0.47570489, 0.46655448],\n",
       "       [0.16536791, 0.1570487 , 0.67758339],\n",
       "       [0.05545867, 0.36665581, 0.57788551],\n",
       "       [0.02855787, 0.27468856, 0.69675357],\n",
       "       [0.10991535, 0.16472314, 0.72536151],\n",
       "       [0.07558651, 0.2821107 , 0.64230279],\n",
       "       [0.0946004 , 0.36127499, 0.54412461],\n",
       "       [0.02134628, 0.49109975, 0.48755397],\n",
       "       [0.03419099, 0.75973926, 0.20606975],\n",
       "       [0.05873209, 0.2876023 , 0.65366561],\n",
       "       [0.3516744 , 0.0768977 , 0.5714279 ],\n",
       "       [0.0634435 , 0.05717532, 0.87938118],\n",
       "       [0.13274216, 0.47055793, 0.39669991],\n",
       "       [0.0874464 , 0.68719477, 0.22535883],\n",
       "       [0.0501202 , 0.46747751, 0.48240229],\n",
       "       [0.00806006, 0.8487462 , 0.14319374],\n",
       "       [0.02194978, 0.13589161, 0.84215861],\n",
       "       [0.21043951, 0.60333514, 0.18622534],\n",
       "       [0.04197808, 0.45192704, 0.50609488],\n",
       "       [0.01396248, 0.36791166, 0.61812586],\n",
       "       [0.02701652, 0.64558233, 0.32740115],\n",
       "       [0.07126429, 0.6281091 , 0.3006266 ],\n",
       "       [0.0963944 , 0.05693482, 0.84667079],\n",
       "       [0.01199558, 0.68835979, 0.29964464],\n",
       "       [0.01024313, 0.64678148, 0.34297539],\n",
       "       [0.09988532, 0.2820698 , 0.61804489],\n",
       "       [0.02815159, 0.71058201, 0.2612664 ],\n",
       "       [0.26860986, 0.45282913, 0.27856101],\n",
       "       [0.03178744, 0.69094723, 0.27726533],\n",
       "       [0.26421811, 0.0127877 , 0.72299419],\n",
       "       [0.03004049, 0.09748232, 0.8724772 ],\n",
       "       [0.06787361, 0.81956629, 0.1125601 ],\n",
       "       [0.04847884, 0.06300043, 0.88852073],\n",
       "       [0.21754547, 0.28320856, 0.49924598],\n",
       "       [0.19148363, 0.32109441, 0.48742196],\n",
       "       [0.02493033, 0.59265446, 0.38241521],\n",
       "       [0.30191814, 0.13704548, 0.56103638],\n",
       "       [0.09378313, 0.60945662, 0.29676025],\n",
       "       [0.15407003, 0.04530093, 0.80062904],\n",
       "       [0.02746264, 0.09925208, 0.87328528],\n",
       "       [0.0543728 , 0.16226552, 0.78336168],\n",
       "       [0.15468997, 0.29823172, 0.54707831],\n",
       "       [0.32050591, 0.00706974, 0.67242435],\n",
       "       [0.07560161, 0.76475678, 0.1596416 ],\n",
       "       [0.03259826, 0.87283491, 0.09456683],\n",
       "       [0.09277789, 0.036939  , 0.87028311],\n",
       "       [0.07964276, 0.17402304, 0.7463342 ],\n",
       "       [0.05558836, 0.79032971, 0.15408193],\n",
       "       [0.01839491, 0.20863751, 0.77296758],\n",
       "       [0.06054448, 0.4621841 , 0.47727142],\n",
       "       [0.05352382, 0.4008112 , 0.54566498],\n",
       "       [0.09537833, 0.3139728 , 0.59064887],\n",
       "       [0.0331357 , 0.4749249 , 0.4919394 ],\n",
       "       [0.2033675 , 0.03285495, 0.76377755],\n",
       "       [0.08738192, 0.10184754, 0.81077054],\n",
       "       [0.06425536, 0.71432258, 0.22142206],\n",
       "       [0.10724664, 0.05979177, 0.83296159],\n",
       "       [0.15429791, 0.11773924, 0.72796285],\n",
       "       [0.0786836 , 0.19646048, 0.72485592],\n",
       "       [0.0794925 , 0.13525519, 0.78525232],\n",
       "       [0.0329426 , 0.90582475, 0.06123265],\n",
       "       [0.07979362, 0.77432261, 0.14588377],\n",
       "       [0.20336119, 0.15222511, 0.6444137 ],\n",
       "       [0.04425049, 0.58590498, 0.36984453],\n",
       "       [0.01376059, 0.86223346, 0.12400594],\n",
       "       [0.1764439 , 0.20112224, 0.62243386],\n",
       "       [0.11440018, 0.14895353, 0.73664629],\n",
       "       [0.16494255, 0.13319695, 0.7018605 ],\n",
       "       [0.12218272, 0.05768571, 0.82013157],\n",
       "       [0.1375853 , 0.30136854, 0.56104616],\n",
       "       [0.10836417, 0.08574877, 0.80588706],\n",
       "       [0.07723254, 0.01693677, 0.90583069],\n",
       "       [0.1952551 , 0.53129106, 0.27345384]])"
      ]
     },
     "execution_count": 14,
     "metadata": {},
     "output_type": "execute_result"
    }
   ],
   "source": [
    "yhat_prob = logreg_cv.predict_proba(X_test)\n",
    "yhat_prob"
   ]
  },
  {
   "cell_type": "code",
   "execution_count": 15,
   "metadata": {},
   "outputs": [],
   "source": [
    "# calculate the accuracy using score\n",
    "logreg_accuracy = metrics.accuracy_score(Y_test, yhat_logreg)"
   ]
  },
  {
   "cell_type": "markdown",
   "metadata": {},
   "source": [
    "### Support Vector Machine  \n",
    "Classifies cases by finding a seperator"
   ]
  },
  {
   "cell_type": "code",
   "execution_count": 63,
   "metadata": {},
   "outputs": [],
   "source": [
    "# create a SVM object \n",
    "# create a grid search cv object with cv=10\n",
    "parameters = {'kernel':('linear', 'rbf','poly', 'sigmoid'),\n",
    "              'C': np.logspace(1, 3, 5),\n",
    "              'gamma':np.logspace(-3, 3, 5)}\n",
    "svm = SVC(decision_function_shape='ovr')\n",
    "grid_search = GridSearchCV(svm, parameters, cv=5)\n",
    "svm_cv = grid_search.fit(X_train, Y_train)"
   ]
  },
  {
   "cell_type": "code",
   "execution_count": 64,
   "metadata": {},
   "outputs": [
    {
     "name": "stdout",
     "output_type": "stream",
     "text": [
      "tuned hpyerparameters :(best parameters)  {'C': 10.0, 'gamma': 1.0, 'kernel': 'rbf'}\n",
      "accuracy : 0.7114689265536723\n"
     ]
    }
   ],
   "source": [
    "print(\"tuned hpyerparameters :(best parameters) \",svm_cv.best_params_)\n",
    "print(\"accuracy :\",svm_cv.best_score_)"
   ]
  },
  {
   "cell_type": "code",
   "execution_count": 65,
   "metadata": {},
   "outputs": [
    {
     "name": "stdout",
     "output_type": "stream",
     "text": [
      "['Demented' 'Nondemented' 'Nondemented' 'Nondemented' 'Converted'\n",
      " 'Demented' 'Nondemented' 'Nondemented' 'Nondemented' 'Demented'\n",
      " 'Demented' 'Nondemented' 'Nondemented' 'Nondemented' 'Demented'\n",
      " 'Nondemented' 'Nondemented' 'Nondemented' 'Nondemented' 'Demented'\n",
      " 'Nondemented' 'Nondemented' 'Nondemented' 'Demented' 'Nondemented'\n",
      " 'Demented' 'Nondemented' 'Demented' 'Demented' 'Nondemented' 'Demented'\n",
      " 'Nondemented' 'Nondemented' 'Demented' 'Nondemented' 'Nondemented'\n",
      " 'Nondemented' 'Demented' 'Converted' 'Demented' 'Nondemented'\n",
      " 'Nondemented' 'Nondemented' 'Nondemented' 'Nondemented' 'Demented'\n",
      " 'Demented' 'Nondemented' 'Nondemented' 'Demented' 'Demented'\n",
      " 'Nondemented' 'Demented' 'Nondemented' 'Demented' 'Nondemented'\n",
      " 'Nondemented' 'Demented' 'Nondemented' 'Nondemented' 'Nondemented'\n",
      " 'Nondemented' 'Demented' 'Demented' 'Nondemented' 'Demented'\n",
      " 'Nondemented' 'Nondemented' 'Nondemented' 'Converted']\n",
      "['Demented' 'Converted' 'Demented' 'Nondemented' 'Converted' 'Demented'\n",
      " 'Demented' 'Nondemented' 'Nondemented' 'Demented' 'Demented' 'Demented'\n",
      " 'Nondemented' 'Nondemented' 'Demented' 'Nondemented' 'Nondemented'\n",
      " 'Demented' 'Nondemented' 'Demented' 'Nondemented' 'Nondemented'\n",
      " 'Demented' 'Demented' 'Nondemented' 'Demented' 'Demented' 'Converted'\n",
      " 'Nondemented' 'Demented' 'Demented' 'Nondemented' 'Nondemented'\n",
      " 'Demented' 'Nondemented' 'Converted' 'Nondemented' 'Nondemented'\n",
      " 'Nondemented' 'Demented' 'Nondemented' 'Converted' 'Nondemented'\n",
      " 'Converted' 'Nondemented' 'Demented' 'Demented' 'Nondemented'\n",
      " 'Nondemented' 'Demented' 'Demented' 'Nondemented' 'Demented' 'Converted'\n",
      " 'Demented' 'Nondemented' 'Demented' 'Demented' 'Nondemented' 'Demented'\n",
      " 'Nondemented' 'Nondemented' 'Demented' 'Demented' 'Converted' 'Demented'\n",
      " 'Nondemented' 'Nondemented' 'Demented' 'Converted']\n"
     ]
    }
   ],
   "source": [
    "# use the model to predict values\n",
    "yhat_svm = svm_cv.predict(X_test)\n",
    "print(yhat_svm[0:70])\n",
    "print (Y_test [0:70])"
   ]
  },
  {
   "cell_type": "code",
   "execution_count": 66,
   "metadata": {},
   "outputs": [
    {
     "data": {
      "text/plain": [
       "0.7066666666666667"
      ]
     },
     "execution_count": 66,
     "metadata": {},
     "output_type": "execute_result"
    }
   ],
   "source": [
    "svm_accuracy = metrics.accuracy_score(Y_test, yhat_svm)\n",
    "svm_accuracy"
   ]
  },
  {
   "cell_type": "markdown",
   "metadata": {},
   "source": [
    "### Comparing the models"
   ]
  },
  {
   "cell_type": "code",
   "execution_count": 21,
   "metadata": {},
   "outputs": [
    {
     "name": "stdout",
     "output_type": "stream",
     "text": [
      "KNN Accuracy:  0.7066666666666667\n",
      "Decision Tree Accuracy:  0.6133333333333333\n",
      "Logistic Regression Accuracy:  0.6666666666666666\n",
      "SVM Accuracy:  0.7066666666666667\n"
     ]
    }
   ],
   "source": [
    "print(\"KNN Accuracy: \", knn_accuracy)\n",
    "print(\"Decision Tree Accuracy: \", tree_accuracy)\n",
    "print(\"Logistic Regression Accuracy: \", logreg_accuracy)\n",
    "print(\"SVM Accuracy: \", svm_accuracy)"
   ]
  },
  {
   "cell_type": "markdown",
   "metadata": {},
   "source": [
    "Conclusion: The K Nearest Neighbor model had the highest accuracy, but all four models were relatively similar.  \n",
    "Perform more metrics to further compare the models.  \n",
    "\n",
    "Methods of comparison:  \n",
    "- Jaccard Index\n",
    "- F1 Score\n",
    "- Confusion Matrix\n",
    "- Log Loss for Logistic Regression"
   ]
  },
  {
   "cell_type": "code",
   "execution_count": 22,
   "metadata": {},
   "outputs": [
    {
     "data": {
      "text/html": [
       "<div>\n",
       "<style scoped>\n",
       "    .dataframe tbody tr th:only-of-type {\n",
       "        vertical-align: middle;\n",
       "    }\n",
       "\n",
       "    .dataframe tbody tr th {\n",
       "        vertical-align: top;\n",
       "    }\n",
       "\n",
       "    .dataframe thead th {\n",
       "        text-align: right;\n",
       "    }\n",
       "</style>\n",
       "<table border=\"1\" class=\"dataframe\">\n",
       "  <thead>\n",
       "    <tr style=\"text-align: right;\">\n",
       "      <th></th>\n",
       "      <th>Algorithm</th>\n",
       "      <th>Jaccard</th>\n",
       "      <th>F1-score</th>\n",
       "      <th>LogLoss</th>\n",
       "      <th>Accuracy Score</th>\n",
       "    </tr>\n",
       "  </thead>\n",
       "  <tbody>\n",
       "    <tr>\n",
       "      <th>0</th>\n",
       "      <td>KNN</td>\n",
       "      <td>[0.2857142857142857, 0.6410256410256411, 0.545...</td>\n",
       "      <td>0.699695</td>\n",
       "      <td>NA</td>\n",
       "      <td>0.706667</td>\n",
       "    </tr>\n",
       "    <tr>\n",
       "      <th>1</th>\n",
       "      <td>Decision Tree</td>\n",
       "      <td>[0.125, 0.5384615384615384, 0.46938775510204084]</td>\n",
       "      <td>0.603852</td>\n",
       "      <td>NA</td>\n",
       "      <td>0.613333</td>\n",
       "    </tr>\n",
       "    <tr>\n",
       "      <th>2</th>\n",
       "      <td>SVM</td>\n",
       "      <td>[0.25, 0.6, 0.58]</td>\n",
       "      <td>0.691916</td>\n",
       "      <td>NA</td>\n",
       "      <td>0.706667</td>\n",
       "    </tr>\n",
       "    <tr>\n",
       "      <th>3</th>\n",
       "      <td>Logistic Regression</td>\n",
       "      <td>[0.0, 0.5945945945945946, 0.5384615384615384]</td>\n",
       "      <td>0.616859</td>\n",
       "      <td>0.861453</td>\n",
       "      <td>0.666667</td>\n",
       "    </tr>\n",
       "  </tbody>\n",
       "</table>\n",
       "</div>"
      ],
      "text/plain": [
       "             Algorithm                                            Jaccard  \\\n",
       "0                  KNN  [0.2857142857142857, 0.6410256410256411, 0.545...   \n",
       "1        Decision Tree   [0.125, 0.5384615384615384, 0.46938775510204084]   \n",
       "2                  SVM                                  [0.25, 0.6, 0.58]   \n",
       "3  Logistic Regression      [0.0, 0.5945945945945946, 0.5384615384615384]   \n",
       "\n",
       "   F1-score   LogLoss  Accuracy Score  \n",
       "0  0.699695        NA        0.706667  \n",
       "1  0.603852        NA        0.613333  \n",
       "2  0.691916        NA        0.706667  \n",
       "3  0.616859  0.861453        0.666667  "
      ]
     },
     "execution_count": 22,
     "metadata": {},
     "output_type": "execute_result"
    }
   ],
   "source": [
    "# evaluate KNN with f1 score\n",
    "knn_f1_score = f1_score(Y_test,yhat_knn, average = 'weighted')\n",
    "# evaluate KNN with Jaccard Score\n",
    "knn_jaccard_score = jaccard_score(Y_test, yhat_knn, average=None)\n",
    "\n",
    "# evaluate with f1 score\n",
    "tree_f1_score = f1_score(Y_test,yhat_tree, average = 'weighted')\n",
    "# evaluate with Jaccard Score\n",
    "tree_jaccard_score = jaccard_score(Y_test, yhat_tree,average=None)\n",
    "\n",
    "# evaluate with f1 score\n",
    "svm_f1_score = f1_score(Y_test,yhat_svm, average = 'weighted')\n",
    "# evaluate with Jaccard Score\n",
    "svm_jaccard_score = jaccard_score(Y_test, yhat_svm,average=None)\n",
    "\n",
    "# evaluate with log loss\n",
    "lr_log_loss=log_loss(Y_test, yhat_prob)\n",
    "# evaluate with f1 score\n",
    "lr_f1_score = f1_score(Y_test,yhat_logreg, average = 'weighted')\n",
    "# evaluate with Jaccard Score\n",
    "lr_jaccard_score = jaccard_score(Y_test,yhat_logreg,average=None)\n",
    "\n",
    "# make a pretty table of the results\n",
    "results = {'Algorithm':['KNN','Decision Tree','SVM','Logistic Regression'],\n",
    "           'Jaccard':[knn_jaccard_score,tree_jaccard_score,svm_jaccard_score,lr_jaccard_score],\n",
    "           'F1-score':[knn_f1_score,tree_f1_score,svm_f1_score,lr_f1_score],\n",
    "           'LogLoss':['NA','NA','NA',lr_log_loss],\n",
    "           'Accuracy Score':[knn_accuracy,tree_accuracy,svm_accuracy,logreg_accuracy]}\n",
    "results_df = pd.DataFrame(data=results)\n",
    "results_df"
   ]
  },
  {
   "cell_type": "code",
   "execution_count": 23,
   "metadata": {},
   "outputs": [],
   "source": [
    "# define function to plot the confusion matrix\n",
    "def plot_confusion_matrix(y,y_predict,model):\n",
    "    \"this function plots the confusion matrix\"\n",
    "    plt.figure(figsize=(5,4))\n",
    "    cm = confusion_matrix(y, y_predict)\n",
    "    ax= plt.subplot()\n",
    "    sns.heatmap(cm, annot=True, ax = ax); #annot=True to annotate cells\n",
    "    ax.set_xlabel('Predicted labels')\n",
    "    ax.set_ylabel('True labels')\n",
    "    ax.set_title(f'Confusion Matrix {model}'); \n",
    "    ax.xaxis.set_ticklabels(['Converted', 'Demented','Nondemented']); ax.yaxis.set_ticklabels(['Converted', 'Demented','Nondemented'])"
   ]
  },
  {
   "cell_type": "code",
   "execution_count": 24,
   "metadata": {},
   "outputs": [
    {
     "data": {
      "image/png": "[encoded data removed]",
      "text/plain": [
       "<Figure size 500x400 with 2 Axes>"
      ]
     },
     "metadata": {},
     "output_type": "display_data"
    }
   ],
   "source": [
    "# plot confusion matrix for KNN\n",
    "plot_confusion_matrix(Y_test,yhat_knn,\"K Nearest Neighbor\")"
   ]
  },
  {
   "cell_type": "code",
   "execution_count": 25,
   "metadata": {},
   "outputs": [
    {
     "data": {
      "image/png": "[encoded data removed]",
      "text/plain": [
       "<Figure size 500x400 with 2 Axes>"
      ]
     },
     "metadata": {},
     "output_type": "display_data"
    }
   ],
   "source": [
    "# plot confusion matrix for decision tree\n",
    "plot_confusion_matrix(Y_test,yhat_tree,\"Decision Tree\")"
   ]
  },
  {
   "cell_type": "code",
   "execution_count": 26,
   "metadata": {},
   "outputs": [
    {
     "data": {
      "image/png": "[encoded data removed]",
      "text/plain": [
       "<Figure size 500x400 with 2 Axes>"
      ]
     },
     "metadata": {},
     "output_type": "display_data"
    }
   ],
   "source": [
    "# plot confusion matrix for SVM\n",
    "plot_confusion_matrix(Y_test,yhat_svm,\"Support Vector Machine\")"
   ]
  },
  {
   "cell_type": "code",
   "execution_count": 27,
   "metadata": {},
   "outputs": [
    {
     "data": {
      "image/png": "[encoded data removed]",
      "text/plain": [
       "<Figure size 500x400 with 2 Axes>"
      ]
     },
     "metadata": {},
     "output_type": "display_data"
    }
   ],
   "source": [
    "# plot confusion matrix for LR\n",
    "plot_confusion_matrix(Y_test,yhat_logreg,\"Logistic Regression\")"
   ]
  },
  {
   "cell_type": "markdown",
   "metadata": {},
   "source": [
    "### K Fold Cross Validation\n",
    "The above results demonstrate that our best model K Nearest Neighbors.  \n",
    "Lets perform K fold cross validation to ensure the model isnt being overfit to the data"
   ]
  },
  {
   "cell_type": "code",
   "execution_count": 30,
   "metadata": {},
   "outputs": [
    {
     "name": "stdout",
     "output_type": "stream",
     "text": [
      "Avg accuracy KNN: 0.5414414414414415\n",
      "Avg accuracy svm: 0.6135135135135135\n",
      "Avg accuracy logistic regression: 0.6054414414414415\n",
      "Avg accuracy decision tree: 0.5305585585585586\n"
     ]
    }
   ],
   "source": [
    "k = 5\n",
    "kf = KFold(n_splits=k, random_state=None)\n",
    "# get average accuracy for KNN\n",
    "kfold_knn = cross_val_score(knn_cv, X, y, cv = kf)\n",
    "print(\"Avg accuracy KNN: {}\".format(kfold_knn.mean()))\n",
    "# repeat for SVM\n",
    "kfold_svm = cross_val_score(svm_cv, X, y, cv = kf)\n",
    "print(\"Avg accuracy svm: {}\".format(kfold_svm.mean()))\n",
    "# repeat for LR\n",
    "kfold_lr = cross_val_score(logreg_cv, X, y, cv = kf)\n",
    "print(\"Avg accuracy logistic regression: {}\".format(kfold_lr.mean()))\n",
    "# repeat for tree\n",
    "kfold_tree = cross_val_score(tree_cv, X, y, cv = kf)\n",
    "print(\"Avg accuracy decision tree: {}\".format(kfold_tree.mean()))"
   ]
  },
  {
   "cell_type": "markdown",
   "metadata": {},
   "source": [
    "### Conclusion:\n",
    "The models all have their strengths and weaknesses.  \n",
    "- Preliminary analysis showed that K nearest neighbor had one of the highest accuracies, however K fold cross validation revealed that this is due to overfitting of the model\n",
    "- Logistic regression also had pne of the highest accuracies, logistic regression also had high k fold cross validation score. However, the confusion matrix revealed that logistic regression did not predict any subject the be in the converted group.  \n",
    "- Support Vector Machine had high accuracy and high k fold cross validation. \n",
    "- Decision Tree preformed the worst in all aspects.  \n",
    "\n",
    "Therefore, Support Vector Machine is decided to be the best model to move forward with."
   ]
  },
  {
   "cell_type": "code",
   "execution_count": 31,
   "metadata": {},
   "outputs": [],
   "source": [
    "# Export the ML model\n",
    "import pickle\n",
    "with open(r'svm_model.pickle', 'wb') as f:\n",
    "    pickle.dump(svm_cv, f)"
   ]
  },
  {
   "cell_type": "code",
   "execution_count": null,
   "metadata": {},
   "outputs": [],
   "source": []
  }
 ],
 "metadata": {
  "kernelspec": {
   "display_name": "Python 3.10.1 64-bit",
   "language": "python",
   "name": "python3"
  },
  "language_info": {
   "codemirror_mode": {
    "name": "ipython",
    "version": 3
   },
   "file_extension": ".py",
   "mimetype": "text/x-python",
   "name": "python",
   "nbconvert_exporter": "python",
   "pygments_lexer": "ipython3",
   "version": "3.10.1"
  },
  "orig_nbformat": 4,
  "vscode": {
   "interpreter": {
    "hash": "d404347084406b8c6d005244449b7dd5f725b5df89987d39dd27b81ada4d10f3"
   }
  }
 },
 "nbformat": 4,
 "nbformat_minor": 2
}
