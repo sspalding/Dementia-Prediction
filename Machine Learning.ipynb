{
 "cells": [
  {
   "cell_type": "markdown",
   "metadata": {},
   "source": [
    "# Machine Learning for the Dementia Prediction Project  \n",
    "Goal: Develop a machine learning model to predict whether a new patient will have or develop dementia based on previous patients.  \n",
    "\n",
    "Methodology:  \n",
    "- Split data into training and testing sets  \n",
    "- Test different machine learning models against each other to determine which has the highest accuracy\n",
    "    - Knearest Neighbor\n",
    "    - Decision Trees\n",
    "    - Logistic Regression  \n",
    "    - Support Vector Machine\n",
    "- Choose one model then perform more rigorous analytics on that model"
   ]
  },
  {
   "cell_type": "code",
   "execution_count": 2,
   "metadata": {},
   "outputs": [],
   "source": [
    "# import libraries\n",
    "import pandas as pd\n",
    "import sqlite3\n",
    "import numpy as np\n",
    "import matplotlib.pyplot as plt\n",
    "from sklearn import preprocessing\n",
    "from sklearn.model_selection import train_test_split\n",
    "from sklearn.neighbors import KNeighborsClassifier\n",
    "from sklearn import metrics\n",
    "from sklearn.tree import DecisionTreeClassifier\n",
    "import sklearn.tree as tree\n",
    "from sklearn.linear_model import LogisticRegression\n",
    "from sklearn import svm\n",
    "from sklearn.metrics import confusion_matrix\n",
    "from sklearn.multiclass import OneVsRestClassifier\n",
    "from sklearn.metrics import accuracy_score\n",
    "from sklearn.svm import SVC\n",
    "from sklearn.model_selection import GridSearchCV\n",
    "from sklearn.metrics import jaccard_score\n",
    "from sklearn.metrics import f1_score\n",
    "from sklearn.metrics import log_loss\n",
    "import seaborn as sns\n",
    "from sklearn.model_selection import cross_val_score\n",
    "from sklearn.model_selection import KFold"
   ]
  },
  {
   "cell_type": "code",
   "execution_count": 3,
   "metadata": {},
   "outputs": [],
   "source": [
    "# get the data from the database\n",
    "conn = sqlite3.connect(\"Dementia.db\")                           # connect to the database\n",
    "query = 'SELECT * FROM datawrangled'                   \n",
    "data_ml = pd.read_sql(query, conn)                    # this will be the main dataframe used "
   ]
  },
  {
   "cell_type": "markdown",
   "metadata": {},
   "source": [
    "**Inputs:**  \n",
    "The inputs are the features that are used to predict the outcome of the patients.  \n",
    "Our inputs are M/F, Educ, SES and nWBV.  \n",
    "Other features were not included in the model because ANOVA test showed that there was not a significant difference in groups.  \n",
    "**Output:**  \n",
    "We have three output options for this dataset: Group, MMSE, and CDR.  \n",
    "Group is categorical, where as MMSE and CDR and continous variables.  \n",
    "For the purpose of this analysis, Group will be used as a categorical variable for classification machine learning.  \n",
    "The other two outcome may be anaylzed later. "
   ]
  },
  {
   "cell_type": "code",
   "execution_count": 4,
   "metadata": {},
   "outputs": [],
   "source": [
    "# Define X and Y variables, convert these values from a pandas dataframe into a numpy array\n",
    "XX = data_ml[['M/F','EDUC','SES','nWBV']].values\n",
    "y = data_ml['Group'].values"
   ]
  },
  {
   "cell_type": "code",
   "execution_count": 5,
   "metadata": {},
   "outputs": [],
   "source": [
    "# Normalize data\n",
    "# standardize the data in X then reassign it to the variable x\n",
    "sc = preprocessing.StandardScaler()\n",
    "sc.fit(XX)\n",
    "X = sc.transform(XX.astype(float))"
   ]
  },
  {
   "cell_type": "code",
   "execution_count": 6,
   "metadata": {},
   "outputs": [
    {
     "name": "stdout",
     "output_type": "stream",
     "text": [
      "Train set: (298, 4) (298,)\n",
      "Test set: (75, 4) (75,)\n"
     ]
    }
   ],
   "source": [
    "# split the data into training and testing sets, test_size = 0.2, random_state=2\n",
    "X_train, X_test, Y_train, Y_test = train_test_split( X, y, test_size=0.2, random_state=42)\n",
    "print ('Train set:', X_train.shape,  Y_train.shape)\n",
    "print ('Test set:', X_test.shape,  Y_test.shape)"
   ]
  },
  {
   "cell_type": "markdown",
   "metadata": {},
   "source": [
    "### K Nearest Neighbor  \n",
    "A method for classifying cases based on their similarity to other cases.  \n",
    "K: Number of neighbors being considered"
   ]
  },
  {
   "cell_type": "code",
   "execution_count": 7,
   "metadata": {},
   "outputs": [
    {
     "name": "stdout",
     "output_type": "stream",
     "text": [
      "tuned hpyerparameters :(best parameters)  {'algorithm': 'auto', 'n_neighbors': 3, 'p': 1}\n",
      "accuracy : 0.7245977011494253\n"
     ]
    }
   ],
   "source": [
    "# create a KNN object\n",
    "parameters = {'n_neighbors': range(2,16), # [2, 3, 4, 5, 6, 7, 8, 9, 10,11,12,13,14,15], ## consider replacing with range(2, 16)\n",
    "              'algorithm': ['auto', 'ball_tree', 'kd_tree', 'brute'],\n",
    "              'p': [1,2]}\n",
    "\n",
    "knn = KNeighborsClassifier()\n",
    "grid_search = GridSearchCV(knn, parameters, cv=10)\n",
    "knn_cv = grid_search.fit(X_train, Y_train)\n",
    "\n",
    "print(\"tuned hpyerparameters :(best parameters) \",knn_cv.best_params_)\n",
    "print(\"accuracy :\",knn_cv.best_score_)"
   ]
  },
  {
   "cell_type": "code",
   "execution_count": 8,
   "metadata": {},
   "outputs": [],
   "source": [
    "yhat_knn = knn_cv.predict(X_test)"
   ]
  },
  {
   "cell_type": "code",
   "execution_count": 9,
   "metadata": {},
   "outputs": [
    {
     "data": {
      "text/plain": [
       "0.6533333333333333"
      ]
     },
     "execution_count": 9,
     "metadata": {},
     "output_type": "execute_result"
    }
   ],
   "source": [
    "knn_accuracy = metrics.accuracy_score(Y_test, yhat_knn)\n",
    "knn_accuracy"
   ]
  },
  {
   "cell_type": "markdown",
   "metadata": {},
   "source": [
    "### Decision Trees  \n",
    "Splits the training test set into nodes and maps out all of the possible decision paths in the form of a tree"
   ]
  },
  {
   "cell_type": "code",
   "execution_count": 10,
   "metadata": {},
   "outputs": [
    {
     "name": "stdout",
     "output_type": "stream",
     "text": [
      "tuned hpyerparameters :(best parameters)  {'criterion': 'gini', 'max_depth': 12, 'max_features': 'sqrt', 'min_samples_leaf': 1, 'min_samples_split': 2, 'splitter': 'random'}\n",
      "accuracy : 0.7318390804597701\n"
     ]
    }
   ],
   "source": [
    "# create a decision tree object\n",
    "parameters = {'criterion': ['gini', 'entropy'],\n",
    "     'splitter': ['best', 'random'],\n",
    "     'max_depth': [2*n for n in range(1,10)],\n",
    "     'max_features': ['sqrt'],\n",
    "     'min_samples_leaf': [1, 2, 4],\n",
    "     'min_samples_split': [2, 5, 10]}\n",
    "\n",
    "tree = DecisionTreeClassifier()\n",
    "grid_search = GridSearchCV(tree, parameters, cv=10)\n",
    "tree_cv = grid_search.fit(X_train, Y_train)\n",
    "\n",
    "print(\"tuned hpyerparameters :(best parameters) \",tree_cv.best_params_)\n",
    "print(\"accuracy :\",tree_cv.best_score_)"
   ]
  },
  {
   "cell_type": "code",
   "execution_count": 11,
   "metadata": {},
   "outputs": [
    {
     "name": "stdout",
     "output_type": "stream",
     "text": [
      "['Nondemented' 'Nondemented' 'Demented' 'Nondemented' 'Nondemented'\n",
      " 'Demented' 'Nondemented' 'Nondemented' 'Demented' 'Demented' 'Demented'\n",
      " 'Demented' 'Nondemented' 'Nondemented' 'Nondemented' 'Nondemented'\n",
      " 'Nondemented' 'Nondemented' 'Nondemented' 'Nondemented' 'Nondemented'\n",
      " 'Demented' 'Nondemented' 'Demented' 'Nondemented' 'Demented' 'Demented'\n",
      " 'Demented' 'Nondemented' 'Nondemented' 'Demented' 'Nondemented'\n",
      " 'Nondemented' 'Demented' 'Nondemented' 'Demented' 'Nondemented'\n",
      " 'Demented' 'Nondemented' 'Demented' 'Nondemented' 'Nondemented'\n",
      " 'Nondemented' 'Demented' 'Nondemented' 'Demented' 'Demented'\n",
      " 'Nondemented' 'Nondemented' 'Demented']\n",
      "['Demented' 'Nondemented' 'Demented' 'Nondemented' 'Nondemented'\n",
      " 'Demented' 'Demented' 'Nondemented' 'Nondemented' 'Demented' 'Demented'\n",
      " 'Demented' 'Nondemented' 'Nondemented' 'Demented' 'Nondemented'\n",
      " 'Nondemented' 'Demented' 'Nondemented' 'Demented' 'Nondemented'\n",
      " 'Nondemented' 'Demented' 'Demented' 'Nondemented' 'Demented' 'Demented'\n",
      " 'Nondemented' 'Nondemented' 'Demented' 'Demented' 'Nondemented'\n",
      " 'Nondemented' 'Demented' 'Nondemented' 'Nondemented' 'Nondemented'\n",
      " 'Nondemented' 'Nondemented' 'Demented' 'Nondemented' 'Nondemented'\n",
      " 'Nondemented' 'Demented' 'Nondemented' 'Demented' 'Demented'\n",
      " 'Nondemented' 'Nondemented' 'Demented']\n"
     ]
    }
   ],
   "source": [
    "# make predictions on test set\n",
    "yhat_tree = tree_cv.predict(X_test)\n",
    "# compare predictions to actual\n",
    "print (yhat_tree [0:50])\n",
    "print (Y_test [0:50])"
   ]
  },
  {
   "cell_type": "code",
   "execution_count": 12,
   "metadata": {},
   "outputs": [
    {
     "name": "stdout",
     "output_type": "stream",
     "text": [
      "DecisionTrees's Accuracy:  0.7466666666666667\n"
     ]
    }
   ],
   "source": [
    "# check accuracy of model\n",
    "print(\"DecisionTrees's Accuracy: \", metrics.accuracy_score(Y_test, yhat_tree))\n",
    "tree_accuracy = metrics.accuracy_score(Y_test, yhat_tree)"
   ]
  },
  {
   "cell_type": "markdown",
   "metadata": {},
   "source": [
    "### Logistic Regression\n",
    "Logisitic regression provides the probability that the subject will belong to one of the groups"
   ]
  },
  {
   "cell_type": "code",
   "execution_count": 13,
   "metadata": {},
   "outputs": [
    {
     "name": "stdout",
     "output_type": "stream",
     "text": [
      "tuned hpyerparameters :(best parameters)  {'C': 10, 'multi_class': 'ovr', 'penalty': 'l2', 'solver': 'lbfgs'}\n",
      "accuracy : 0.6779310344827587\n"
     ]
    }
   ],
   "source": [
    "# create a logistic regression object\n",
    "# create a grid search cv object with cv =10\n",
    "# fit the object to find the parameters from the dictionary parameters\n",
    "parameters ={'C':[0.001,0.01,0.1,1,10],\n",
    "             'penalty':['l2'],\n",
    "             'solver':['lbfgs', 'liblinear'],\n",
    "             'multi_class':['ovr']}\n",
    "lr=LogisticRegression()\n",
    "grid_search = GridSearchCV(lr, parameters, cv=10)\n",
    "logreg_cv = grid_search.fit(X_train, Y_train)\n",
    "\n",
    "print(\"tuned hpyerparameters :(best parameters) \",logreg_cv.best_params_)\n",
    "print(\"accuracy :\",logreg_cv.best_score_)"
   ]
  },
  {
   "cell_type": "code",
   "execution_count": 14,
   "metadata": {},
   "outputs": [
    {
     "data": {
      "text/plain": [
       "array(['Demented', 'Nondemented', 'Nondemented', 'Nondemented',\n",
       "       'Demented', 'Nondemented', 'Nondemented', 'Nondemented',\n",
       "       'Nondemented', 'Nondemented', 'Demented', 'Nondemented',\n",
       "       'Demented', 'Nondemented', 'Demented', 'Demented', 'Demented',\n",
       "       'Demented', 'Nondemented', 'Demented', 'Demented', 'Demented',\n",
       "       'Demented', 'Nondemented', 'Nondemented', 'Demented', 'Demented',\n",
       "       'Nondemented', 'Demented', 'Demented', 'Demented', 'Nondemented',\n",
       "       'Nondemented', 'Demented', 'Nondemented', 'Nondemented',\n",
       "       'Nondemented', 'Nondemented', 'Demented', 'Demented',\n",
       "       'Nondemented', 'Nondemented', 'Demented', 'Nondemented',\n",
       "       'Nondemented', 'Demented', 'Demented', 'Nondemented',\n",
       "       'Nondemented', 'Demented', 'Nondemented', 'Demented',\n",
       "       'Nondemented', 'Nondemented', 'Nondemented', 'Nondemented',\n",
       "       'Nondemented', 'Demented', 'Nondemented', 'Nondemented',\n",
       "       'Nondemented', 'Nondemented', 'Demented', 'Demented',\n",
       "       'Nondemented', 'Demented', 'Demented', 'Demented', 'Nondemented',\n",
       "       'Nondemented', 'Nondemented', 'Nondemented', 'Nondemented',\n",
       "       'Nondemented', 'Demented'], dtype=object)"
      ]
     },
     "execution_count": 14,
     "metadata": {},
     "output_type": "execute_result"
    }
   ],
   "source": [
    "# predict using our test set\n",
    "yhat_logreg = logreg_cv.predict(X_test)\n",
    "yhat_logreg"
   ]
  },
  {
   "cell_type": "code",
   "execution_count": 15,
   "metadata": {},
   "outputs": [
    {
     "data": {
      "text/plain": [
       "array([[0.82716414, 0.17283586],\n",
       "       [0.47244114, 0.52755886],\n",
       "       [0.36480537, 0.63519463],\n",
       "       [0.14656718, 0.85343282],\n",
       "       [0.50435081, 0.49564919],\n",
       "       [0.26457145, 0.73542855],\n",
       "       [0.14311338, 0.85688662],\n",
       "       [0.32085444, 0.67914556],\n",
       "       [0.38594045, 0.61405955],\n",
       "       [0.42943359, 0.57056641],\n",
       "       [0.60471424, 0.39528576],\n",
       "       [0.35709545, 0.64290455],\n",
       "       [0.60621305, 0.39378695],\n",
       "       [0.03659954, 0.96340046],\n",
       "       [0.59672854, 0.40327146],\n",
       "       [0.70946959, 0.29053041],\n",
       "       [0.76829197, 0.23170803],\n",
       "       [0.65783613, 0.34216387],\n",
       "       [0.28310537, 0.71689463],\n",
       "       [0.78028263, 0.21971737],\n",
       "       [0.76925684, 0.23074316],\n",
       "       [0.505717  , 0.494283  ],\n",
       "       [0.671467  , 0.328533  ],\n",
       "       [0.496032  , 0.503968  ],\n",
       "       [0.18372342, 0.81627658],\n",
       "       [0.76583446, 0.23416554],\n",
       "       [0.50757722, 0.49242278],\n",
       "       [0.39078757, 0.60921243],\n",
       "       [0.73110733, 0.26889267],\n",
       "       [0.78375786, 0.21624214],\n",
       "       [0.63152544, 0.36847456],\n",
       "       [0.12730795, 0.87269205],\n",
       "       [0.07232882, 0.92767118],\n",
       "       [0.84396376, 0.15603624],\n",
       "       [0.03853948, 0.96146052],\n",
       "       [0.30925898, 0.69074102],\n",
       "       [0.43706189, 0.56293811],\n",
       "       [0.48209682, 0.51790318],\n",
       "       [0.61106917, 0.38893083],\n",
       "       [0.59464135, 0.40535865],\n",
       "       [0.2620604 , 0.7379396 ],\n",
       "       [0.06833087, 0.93166913],\n",
       "       [0.56301835, 0.43698165],\n",
       "       [0.3224824 , 0.6775176 ],\n",
       "       [0.14402385, 0.85597615],\n",
       "       [0.69943557, 0.30056443],\n",
       "       [0.77640825, 0.22359175],\n",
       "       [0.04036857, 0.95963143],\n",
       "       [0.21627838, 0.78372162],\n",
       "       [0.76696113, 0.23303887],\n",
       "       [0.42443196, 0.57556804],\n",
       "       [0.59492732, 0.40507268],\n",
       "       [0.4036175 , 0.5963825 ],\n",
       "       [0.21194722, 0.78805278],\n",
       "       [0.39872886, 0.60127114],\n",
       "       [0.33887778, 0.66112222],\n",
       "       [0.22815271, 0.77184729],\n",
       "       [0.79272654, 0.20727346],\n",
       "       [0.25040944, 0.74959056],\n",
       "       [0.16711911, 0.83288089],\n",
       "       [0.38591829, 0.61408171],\n",
       "       [0.08307487, 0.91692513],\n",
       "       [0.90234803, 0.09765197],\n",
       "       [0.8260949 , 0.1739051 ],\n",
       "       [0.28376304, 0.71623696],\n",
       "       [0.72301641, 0.27698359],\n",
       "       [0.89681586, 0.10318414],\n",
       "       [0.57168519, 0.42831481],\n",
       "       [0.38112468, 0.61887532],\n",
       "       [0.15706941, 0.84293059],\n",
       "       [0.2354125 , 0.7645875 ],\n",
       "       [0.49093611, 0.50906389],\n",
       "       [0.08623406, 0.91376594],\n",
       "       [0.13340096, 0.86659904],\n",
       "       [0.67026022, 0.32973978]])"
      ]
     },
     "execution_count": 15,
     "metadata": {},
     "output_type": "execute_result"
    }
   ],
   "source": [
    "yhat_prob = logreg_cv.predict_proba(X_test)\n",
    "yhat_prob"
   ]
  },
  {
   "cell_type": "code",
   "execution_count": 16,
   "metadata": {},
   "outputs": [],
   "source": [
    "# calculate the accuracy using score\n",
    "logreg_accuracy = metrics.accuracy_score(Y_test, yhat_logreg)"
   ]
  },
  {
   "cell_type": "markdown",
   "metadata": {},
   "source": [
    "### Support Vector Machine  \n",
    "Classifies cases by finding a seperator"
   ]
  },
  {
   "cell_type": "code",
   "execution_count": 17,
   "metadata": {},
   "outputs": [],
   "source": [
    "# create a SVM object \n",
    "# create a grid search cv object with cv=10\n",
    "parameters = {'kernel':('rbf', 'sigmoid'),\n",
    "              'C': np.logspace(1, 3, 5),\n",
    "              'gamma':np.logspace(-3, 3, 5)}\n",
    "svm = SVC(decision_function_shape='ovr')\n",
    "grid_search = GridSearchCV(svm, parameters, cv=5)\n",
    "svm_cv = grid_search.fit(X_train, Y_train)"
   ]
  },
  {
   "cell_type": "code",
   "execution_count": 18,
   "metadata": {},
   "outputs": [
    {
     "name": "stdout",
     "output_type": "stream",
     "text": [
      "tuned hpyerparameters :(best parameters)  {'C': 100.0, 'gamma': 1.0, 'kernel': 'rbf'}\n",
      "accuracy : 0.7182485875706215\n"
     ]
    }
   ],
   "source": [
    "print(\"tuned hpyerparameters :(best parameters) \",svm_cv.best_params_)\n",
    "print(\"accuracy :\",svm_cv.best_score_)"
   ]
  },
  {
   "cell_type": "code",
   "execution_count": 19,
   "metadata": {},
   "outputs": [
    {
     "name": "stdout",
     "output_type": "stream",
     "text": [
      "['Nondemented' 'Nondemented' 'Demented' 'Nondemented' 'Nondemented'\n",
      " 'Demented' 'Nondemented' 'Nondemented' 'Nondemented' 'Demented'\n",
      " 'Demented' 'Demented' 'Demented' 'Nondemented' 'Demented' 'Demented'\n",
      " 'Demented' 'Nondemented' 'Nondemented' 'Nondemented' 'Demented'\n",
      " 'Nondemented' 'Nondemented' 'Demented' 'Nondemented' 'Demented'\n",
      " 'Nondemented' 'Nondemented' 'Nondemented' 'Nondemented' 'Demented'\n",
      " 'Nondemented' 'Nondemented' 'Demented' 'Nondemented' 'Demented'\n",
      " 'Nondemented' 'Nondemented' 'Demented' 'Demented' 'Nondemented'\n",
      " 'Nondemented' 'Nondemented' 'Nondemented' 'Nondemented' 'Demented'\n",
      " 'Demented' 'Nondemented' 'Nondemented' 'Demented' 'Demented' 'Demented'\n",
      " 'Demented' 'Demented' 'Demented' 'Nondemented' 'Nondemented' 'Demented'\n",
      " 'Nondemented' 'Nondemented' 'Nondemented' 'Nondemented' 'Demented'\n",
      " 'Demented' 'Demented' 'Nondemented' 'Nondemented' 'Nondemented'\n",
      " 'Nondemented' 'Nondemented']\n",
      "['Demented' 'Nondemented' 'Demented' 'Nondemented' 'Nondemented'\n",
      " 'Demented' 'Demented' 'Nondemented' 'Nondemented' 'Demented' 'Demented'\n",
      " 'Demented' 'Nondemented' 'Nondemented' 'Demented' 'Nondemented'\n",
      " 'Nondemented' 'Demented' 'Nondemented' 'Demented' 'Nondemented'\n",
      " 'Nondemented' 'Demented' 'Demented' 'Nondemented' 'Demented' 'Demented'\n",
      " 'Nondemented' 'Nondemented' 'Demented' 'Demented' 'Nondemented'\n",
      " 'Nondemented' 'Demented' 'Nondemented' 'Nondemented' 'Nondemented'\n",
      " 'Nondemented' 'Nondemented' 'Demented' 'Nondemented' 'Nondemented'\n",
      " 'Nondemented' 'Demented' 'Nondemented' 'Demented' 'Demented'\n",
      " 'Nondemented' 'Nondemented' 'Demented' 'Demented' 'Nondemented'\n",
      " 'Demented' 'Nondemented' 'Demented' 'Nondemented' 'Demented' 'Demented'\n",
      " 'Nondemented' 'Demented' 'Nondemented' 'Nondemented' 'Demented'\n",
      " 'Demented' 'Demented' 'Demented' 'Nondemented' 'Nondemented' 'Demented'\n",
      " 'Nondemented']\n"
     ]
    }
   ],
   "source": [
    "# use the model to predict values\n",
    "yhat_svm = svm_cv.predict(X_test)\n",
    "print(yhat_svm[0:70])\n",
    "print (Y_test [0:70])"
   ]
  },
  {
   "cell_type": "code",
   "execution_count": 20,
   "metadata": {},
   "outputs": [
    {
     "data": {
      "text/plain": [
       "0.72"
      ]
     },
     "execution_count": 20,
     "metadata": {},
     "output_type": "execute_result"
    }
   ],
   "source": [
    "svm_accuracy = metrics.accuracy_score(Y_test, yhat_svm)\n",
    "svm_accuracy"
   ]
  },
  {
   "cell_type": "markdown",
   "metadata": {},
   "source": [
    "### Comparing the models"
   ]
  },
  {
   "cell_type": "code",
   "execution_count": 21,
   "metadata": {},
   "outputs": [
    {
     "name": "stdout",
     "output_type": "stream",
     "text": [
      "KNN Accuracy:  0.6533333333333333\n",
      "Decision Tree Accuracy:  0.7466666666666667\n",
      "Logistic Regression Accuracy:  0.6133333333333333\n",
      "SVM Accuracy:  0.72\n"
     ]
    }
   ],
   "source": [
    "print(\"KNN Accuracy: \", knn_accuracy)\n",
    "print(\"Decision Tree Accuracy: \", tree_accuracy)\n",
    "print(\"Logistic Regression Accuracy: \", logreg_accuracy)\n",
    "print(\"SVM Accuracy: \", svm_accuracy)"
   ]
  },
  {
   "cell_type": "markdown",
   "metadata": {},
   "source": [
    "Conclusion: The K Nearest Neighbor model had the highest accuracy, but all four models were relatively similar.  \n",
    "Perform more metrics to further compare the models.  \n",
    "\n",
    "Methods of comparison:  \n",
    "- Jaccard Index\n",
    "- F1 Score\n",
    "- Confusion Matrix\n",
    "- Log Loss for Logistic Regression"
   ]
  },
  {
   "cell_type": "code",
   "execution_count": 22,
   "metadata": {},
   "outputs": [
    {
     "data": {
      "text/html": [
       "<div>\n",
       "<style scoped>\n",
       "    .dataframe tbody tr th:only-of-type {\n",
       "        vertical-align: middle;\n",
       "    }\n",
       "\n",
       "    .dataframe tbody tr th {\n",
       "        vertical-align: top;\n",
       "    }\n",
       "\n",
       "    .dataframe thead th {\n",
       "        text-align: right;\n",
       "    }\n",
       "</style>\n",
       "<table border=\"1\" class=\"dataframe\">\n",
       "  <thead>\n",
       "    <tr style=\"text-align: right;\">\n",
       "      <th></th>\n",
       "      <th>Algorithm</th>\n",
       "      <th>Jaccard</th>\n",
       "      <th>F1-score</th>\n",
       "      <th>LogLoss</th>\n",
       "      <th>Accuracy Score</th>\n",
       "    </tr>\n",
       "  </thead>\n",
       "  <tbody>\n",
       "    <tr>\n",
       "      <th>0</th>\n",
       "      <td>KNN</td>\n",
       "      <td>[0.44680851063829785, 0.5185185185185185]</td>\n",
       "      <td>0.652463</td>\n",
       "      <td>NA</td>\n",
       "      <td>0.653333</td>\n",
       "    </tr>\n",
       "    <tr>\n",
       "      <th>1</th>\n",
       "      <td>Decision Tree</td>\n",
       "      <td>[0.5581395348837209, 0.6274509803921569]</td>\n",
       "      <td>0.745573</td>\n",
       "      <td>NA</td>\n",
       "      <td>0.746667</td>\n",
       "    </tr>\n",
       "    <tr>\n",
       "      <th>2</th>\n",
       "      <td>SVM</td>\n",
       "      <td>[0.5116279069767442, 0.6037735849056604]</td>\n",
       "      <td>0.717466</td>\n",
       "      <td>NA</td>\n",
       "      <td>0.720000</td>\n",
       "    </tr>\n",
       "    <tr>\n",
       "      <th>3</th>\n",
       "      <td>Logistic Regression</td>\n",
       "      <td>[0.3958333333333333, 0.48214285714285715]</td>\n",
       "      <td>0.611665</td>\n",
       "      <td>0.622803</td>\n",
       "      <td>0.613333</td>\n",
       "    </tr>\n",
       "  </tbody>\n",
       "</table>\n",
       "</div>"
      ],
      "text/plain": [
       "             Algorithm                                    Jaccard  F1-score  \\\n",
       "0                  KNN  [0.44680851063829785, 0.5185185185185185]  0.652463   \n",
       "1        Decision Tree   [0.5581395348837209, 0.6274509803921569]  0.745573   \n",
       "2                  SVM   [0.5116279069767442, 0.6037735849056604]  0.717466   \n",
       "3  Logistic Regression  [0.3958333333333333, 0.48214285714285715]  0.611665   \n",
       "\n",
       "    LogLoss  Accuracy Score  \n",
       "0        NA        0.653333  \n",
       "1        NA        0.746667  \n",
       "2        NA        0.720000  \n",
       "3  0.622803        0.613333  "
      ]
     },
     "execution_count": 22,
     "metadata": {},
     "output_type": "execute_result"
    }
   ],
   "source": [
    "# evaluate KNN with f1 score\n",
    "knn_f1_score = f1_score(Y_test,yhat_knn, average = 'weighted')\n",
    "# evaluate KNN with Jaccard Score\n",
    "knn_jaccard_score = jaccard_score(Y_test, yhat_knn, average=None)\n",
    "\n",
    "# evaluate with f1 score\n",
    "tree_f1_score = f1_score(Y_test,yhat_tree, average = 'weighted')\n",
    "# evaluate with Jaccard Score\n",
    "tree_jaccard_score = jaccard_score(Y_test, yhat_tree,average=None)\n",
    "\n",
    "# evaluate with f1 score\n",
    "svm_f1_score = f1_score(Y_test,yhat_svm, average = 'weighted')\n",
    "# evaluate with Jaccard Score\n",
    "svm_jaccard_score = jaccard_score(Y_test, yhat_svm,average=None)\n",
    "\n",
    "# evaluate with log loss\n",
    "lr_log_loss=log_loss(Y_test, yhat_prob)\n",
    "# evaluate with f1 score\n",
    "lr_f1_score = f1_score(Y_test,yhat_logreg, average = 'weighted')\n",
    "# evaluate with Jaccard Score\n",
    "lr_jaccard_score = jaccard_score(Y_test,yhat_logreg,average=None)\n",
    "\n",
    "# make a pretty table of the results\n",
    "results = {'Algorithm':['KNN','Decision Tree','SVM','Logistic Regression'],\n",
    "           'Jaccard':[knn_jaccard_score,tree_jaccard_score,svm_jaccard_score,lr_jaccard_score],\n",
    "           'F1-score':[knn_f1_score,tree_f1_score,svm_f1_score,lr_f1_score],\n",
    "           'LogLoss':['NA','NA','NA',lr_log_loss],\n",
    "           'Accuracy Score':[knn_accuracy,tree_accuracy,svm_accuracy,logreg_accuracy]}\n",
    "results_df = pd.DataFrame(data=results)\n",
    "results_df"
   ]
  },
  {
   "cell_type": "code",
   "execution_count": 25,
   "metadata": {},
   "outputs": [],
   "source": [
    "# define function to plot the confusion matrix\n",
    "def plot_confusion_matrix(y,y_predict,model):\n",
    "    \"this function plots the confusion matrix\"\n",
    "    plt.figure(figsize=(5,4))\n",
    "    cm = confusion_matrix(y, y_predict)\n",
    "    ax= plt.subplot()\n",
    "    sns.heatmap(cm, annot=True, ax = ax); #annot=True to annotate cells\n",
    "    ax.set_xlabel('Predicted labels')\n",
    "    ax.set_ylabel('True labels')\n",
    "    ax.set_title(f'Confusion Matrix {model}'); \n",
    "    ax.xaxis.set_ticklabels(['Demented','Nondemented']); ax.yaxis.set_ticklabels(['Demented','Nondemented'])"
   ]
  },
  {
   "cell_type": "code",
   "execution_count": 26,
   "metadata": {},
   "outputs": [
    {
     "data": {
      "image/png": "[encoded data removed]",
      "text/plain": [
       "<Figure size 500x400 with 2 Axes>"
      ]
     },
     "metadata": {},
     "output_type": "display_data"
    }
   ],
   "source": [
    "# plot confusion matrix for KNN\n",
    "plot_confusion_matrix(Y_test,yhat_knn,\"K Nearest Neighbor\")"
   ]
  },
  {
   "cell_type": "code",
   "execution_count": 27,
   "metadata": {},
   "outputs": [
    {
     "data": {
      "image/png": "[encoded data removed]",
      "text/plain": [
       "<Figure size 500x400 with 2 Axes>"
      ]
     },
     "metadata": {},
     "output_type": "display_data"
    }
   ],
   "source": [
    "# plot confusion matrix for decision tree\n",
    "plot_confusion_matrix(Y_test,yhat_tree,\"Decision Tree\")"
   ]
  },
  {
   "cell_type": "code",
   "execution_count": 28,
   "metadata": {},
   "outputs": [
    {
     "data": {
      "image/png": "[encoded data removed]",
      "text/plain": [
       "<Figure size 500x400 with 2 Axes>"
      ]
     },
     "metadata": {},
     "output_type": "display_data"
    }
   ],
   "source": [
    "# plot confusion matrix for SVM\n",
    "plot_confusion_matrix(Y_test,yhat_svm,\"Support Vector Machine\")"
   ]
  },
  {
   "cell_type": "code",
   "execution_count": 29,
   "metadata": {},
   "outputs": [
    {
     "data": {
      "image/png": "[encoded data removed]",
      "text/plain": [
       "<Figure size 500x400 with 2 Axes>"
      ]
     },
     "metadata": {},
     "output_type": "display_data"
    }
   ],
   "source": [
    "# plot confusion matrix for LR\n",
    "plot_confusion_matrix(Y_test,yhat_logreg,\"Logistic Regression\")"
   ]
  },
  {
   "cell_type": "markdown",
   "metadata": {},
   "source": [
    "### K Fold Cross Validation\n",
    "Lets perform K fold cross validation to ensure the model isnt being overfit to the data"
   ]
  },
  {
   "cell_type": "code",
   "execution_count": 30,
   "metadata": {},
   "outputs": [
    {
     "name": "stdout",
     "output_type": "stream",
     "text": [
      "Avg accuracy KNN: 0.581981981981982\n",
      "Avg accuracy svm: 0.6194594594594595\n",
      "Avg accuracy logistic regression: 0.6380540540540541\n",
      "Avg accuracy decision tree: 0.5631711711711712\n"
     ]
    }
   ],
   "source": [
    "k = 5\n",
    "kf = KFold(n_splits=k, random_state=None)\n",
    "# get average accuracy for KNN\n",
    "kfold_knn = cross_val_score(knn_cv, X, y, cv = kf)\n",
    "print(\"Avg accuracy KNN: {}\".format(kfold_knn.mean()))\n",
    "# repeat for SVM\n",
    "kfold_svm = cross_val_score(svm_cv, X, y, cv = kf)\n",
    "print(\"Avg accuracy svm: {}\".format(kfold_svm.mean()))\n",
    "# repeat for LR\n",
    "kfold_lr = cross_val_score(logreg_cv, X, y, cv = kf)\n",
    "print(\"Avg accuracy logistic regression: {}\".format(kfold_lr.mean()))\n",
    "# repeat for tree\n",
    "kfold_tree = cross_val_score(tree_cv, X, y, cv = kf)\n",
    "print(\"Avg accuracy decision tree: {}\".format(kfold_tree.mean()))"
   ]
  },
  {
   "cell_type": "markdown",
   "metadata": {},
   "source": [
    "### Conclusion:\n",
    "The models all have their strengths and weaknesses.  \n",
    "- Preliminary analysis showed that decision tree had one of the highest accuracies, however K fold cross validation revealed that this is due to overfitting of the model\n",
    "- Logistic regression had the highest k fold cross validation score. However, this is a imbalanced dataset and therefore F1 score is a more important measure of performance than accuracy and the logistic regression model had a lower F1 score\n",
    "- Support Vector Machine had high F1 score and high k fold cross validation. \n",
    "- K nearest neighbor preformed the worst in all aspects.  \n",
    "\n",
    "Therefore, Support Vector Machine is decided to be the best model to move forward with."
   ]
  },
  {
   "cell_type": "code",
   "execution_count": 31,
   "metadata": {},
   "outputs": [],
   "source": [
    "# Export the ML model\n",
    "import pickle\n",
    "with open(r'svm_model.pickle', 'wb') as f:\n",
    "    pickle.dump(svm_cv, f)"
   ]
  },
  {
   "cell_type": "code",
   "execution_count": null,
   "metadata": {},
   "outputs": [],
   "source": []
  }
 ],
 "metadata": {
  "kernelspec": {
   "display_name": "Python 3.10.1 64-bit",
   "language": "python",
   "name": "python3"
  },
  "language_info": {
   "codemirror_mode": {
    "name": "ipython",
    "version": 3
   },
   "file_extension": ".py",
   "mimetype": "text/x-python",
   "name": "python",
   "nbconvert_exporter": "python",
   "pygments_lexer": "ipython3",
   "version": "3.10.1"
  },
  "orig_nbformat": 4,
  "vscode": {
   "interpreter": {
    "hash": "d404347084406b8c6d005244449b7dd5f725b5df89987d39dd27b81ada4d10f3"
   }
  }
 },
 "nbformat": 4,
 "nbformat_minor": 2
}
