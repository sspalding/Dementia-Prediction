{
 "cells": [
  {
   "cell_type": "markdown",
   "metadata": {},
   "source": [
    "# Dementia Prediction Project  \n",
    "Sarah Spalding  \n",
    "Goal: The goal of this project is to analyze an existing dataset comparing individuals with and without dementia and to predict the likelihood of dementia in other individuals based off of this dataset"
   ]
  },
  {
   "cell_type": "code",
   "execution_count": 2,
   "metadata": {},
   "outputs": [],
   "source": [
    "# import libraries\n",
    "import pandas as pd\n",
    "import sqlite3\n",
    "import numpy as np\n",
    "import matplotlib.pyplot as plt\n",
    "import seaborn as sns\n",
    "from scipy import stats"
   ]
  },
  {
   "cell_type": "markdown",
   "metadata": {},
   "source": [
    "### Exploratory Data Analysis with SQL\n",
    "Goal: get a general feel for the data and trends"
   ]
  },
  {
   "cell_type": "code",
   "execution_count": 3,
   "metadata": {},
   "outputs": [],
   "source": [
    "# connect to database and create a new dataframe to manipulate\n",
    "conn = sqlite3.connect(\"Dementia.db\")\n",
    "query = 'SELECT * FROM Data_Wrangled'\n",
    "data_explore = pd.read_sql(query, conn)"
   ]
  },
  {
   "cell_type": "code",
   "execution_count": 4,
   "metadata": {},
   "outputs": [
    {
     "data": {
      "text/html": [
       "<div>\n",
       "<style scoped>\n",
       "    .dataframe tbody tr th:only-of-type {\n",
       "        vertical-align: middle;\n",
       "    }\n",
       "\n",
       "    .dataframe tbody tr th {\n",
       "        vertical-align: top;\n",
       "    }\n",
       "\n",
       "    .dataframe thead th {\n",
       "        text-align: right;\n",
       "    }\n",
       "</style>\n",
       "<table border=\"1\" class=\"dataframe\">\n",
       "  <thead>\n",
       "    <tr style=\"text-align: right;\">\n",
       "      <th></th>\n",
       "      <th>level_0</th>\n",
       "      <th>index</th>\n",
       "      <th>Subject ID</th>\n",
       "      <th>MRI ID</th>\n",
       "      <th>Group</th>\n",
       "      <th>Visit</th>\n",
       "      <th>MR Delay</th>\n",
       "      <th>M/F</th>\n",
       "      <th>Age</th>\n",
       "      <th>EDUC</th>\n",
       "      <th>SES</th>\n",
       "      <th>MMSE</th>\n",
       "      <th>CDR</th>\n",
       "      <th>eTIV</th>\n",
       "      <th>nWBV</th>\n",
       "      <th>ASF</th>\n",
       "      <th>Group_Converted</th>\n",
       "      <th>Group_Demented</th>\n",
       "      <th>Group_Nondemented</th>\n",
       "    </tr>\n",
       "  </thead>\n",
       "  <tbody>\n",
       "    <tr>\n",
       "      <th>0</th>\n",
       "      <td>0</td>\n",
       "      <td>0</td>\n",
       "      <td>OAS2_0001</td>\n",
       "      <td>OAS2_0001_MR1</td>\n",
       "      <td>Nondemented</td>\n",
       "      <td>1</td>\n",
       "      <td>0</td>\n",
       "      <td>1</td>\n",
       "      <td>87</td>\n",
       "      <td>14</td>\n",
       "      <td>2.0</td>\n",
       "      <td>27.0</td>\n",
       "      <td>0.0</td>\n",
       "      <td>1987</td>\n",
       "      <td>0.696</td>\n",
       "      <td>0.883</td>\n",
       "      <td>0</td>\n",
       "      <td>0</td>\n",
       "      <td>1</td>\n",
       "    </tr>\n",
       "    <tr>\n",
       "      <th>1</th>\n",
       "      <td>1</td>\n",
       "      <td>1</td>\n",
       "      <td>OAS2_0001</td>\n",
       "      <td>OAS2_0001_MR2</td>\n",
       "      <td>Nondemented</td>\n",
       "      <td>2</td>\n",
       "      <td>457</td>\n",
       "      <td>1</td>\n",
       "      <td>88</td>\n",
       "      <td>14</td>\n",
       "      <td>2.0</td>\n",
       "      <td>30.0</td>\n",
       "      <td>0.0</td>\n",
       "      <td>2004</td>\n",
       "      <td>0.681</td>\n",
       "      <td>0.876</td>\n",
       "      <td>0</td>\n",
       "      <td>0</td>\n",
       "      <td>1</td>\n",
       "    </tr>\n",
       "    <tr>\n",
       "      <th>2</th>\n",
       "      <td>2</td>\n",
       "      <td>2</td>\n",
       "      <td>OAS2_0002</td>\n",
       "      <td>OAS2_0002_MR1</td>\n",
       "      <td>Demented</td>\n",
       "      <td>1</td>\n",
       "      <td>0</td>\n",
       "      <td>1</td>\n",
       "      <td>75</td>\n",
       "      <td>12</td>\n",
       "      <td>2.0</td>\n",
       "      <td>23.0</td>\n",
       "      <td>0.5</td>\n",
       "      <td>1678</td>\n",
       "      <td>0.736</td>\n",
       "      <td>1.046</td>\n",
       "      <td>0</td>\n",
       "      <td>1</td>\n",
       "      <td>0</td>\n",
       "    </tr>\n",
       "    <tr>\n",
       "      <th>3</th>\n",
       "      <td>3</td>\n",
       "      <td>3</td>\n",
       "      <td>OAS2_0002</td>\n",
       "      <td>OAS2_0002_MR2</td>\n",
       "      <td>Demented</td>\n",
       "      <td>2</td>\n",
       "      <td>560</td>\n",
       "      <td>1</td>\n",
       "      <td>76</td>\n",
       "      <td>12</td>\n",
       "      <td>2.0</td>\n",
       "      <td>28.0</td>\n",
       "      <td>0.5</td>\n",
       "      <td>1738</td>\n",
       "      <td>0.713</td>\n",
       "      <td>1.010</td>\n",
       "      <td>0</td>\n",
       "      <td>1</td>\n",
       "      <td>0</td>\n",
       "    </tr>\n",
       "    <tr>\n",
       "      <th>4</th>\n",
       "      <td>4</td>\n",
       "      <td>4</td>\n",
       "      <td>OAS2_0002</td>\n",
       "      <td>OAS2_0002_MR3</td>\n",
       "      <td>Demented</td>\n",
       "      <td>3</td>\n",
       "      <td>1895</td>\n",
       "      <td>1</td>\n",
       "      <td>80</td>\n",
       "      <td>12</td>\n",
       "      <td>2.0</td>\n",
       "      <td>22.0</td>\n",
       "      <td>0.5</td>\n",
       "      <td>1698</td>\n",
       "      <td>0.701</td>\n",
       "      <td>1.034</td>\n",
       "      <td>0</td>\n",
       "      <td>1</td>\n",
       "      <td>0</td>\n",
       "    </tr>\n",
       "  </tbody>\n",
       "</table>\n",
       "</div>"
      ],
      "text/plain": [
       "   level_0  index Subject ID         MRI ID        Group  Visit  MR Delay  \\\n",
       "0        0      0  OAS2_0001  OAS2_0001_MR1  Nondemented      1         0   \n",
       "1        1      1  OAS2_0001  OAS2_0001_MR2  Nondemented      2       457   \n",
       "2        2      2  OAS2_0002  OAS2_0002_MR1     Demented      1         0   \n",
       "3        3      3  OAS2_0002  OAS2_0002_MR2     Demented      2       560   \n",
       "4        4      4  OAS2_0002  OAS2_0002_MR3     Demented      3      1895   \n",
       "\n",
       "   M/F  Age  EDUC  SES  MMSE  CDR  eTIV   nWBV    ASF  Group_Converted  \\\n",
       "0    1   87    14  2.0  27.0  0.0  1987  0.696  0.883                0   \n",
       "1    1   88    14  2.0  30.0  0.0  2004  0.681  0.876                0   \n",
       "2    1   75    12  2.0  23.0  0.5  1678  0.736  1.046                0   \n",
       "3    1   76    12  2.0  28.0  0.5  1738  0.713  1.010                0   \n",
       "4    1   80    12  2.0  22.0  0.5  1698  0.701  1.034                0   \n",
       "\n",
       "   Group_Demented  Group_Nondemented  \n",
       "0               0                  1  \n",
       "1               0                  1  \n",
       "2               1                  0  \n",
       "3               1                  0  \n",
       "4               1                  0  "
      ]
     },
     "execution_count": 4,
     "metadata": {},
     "output_type": "execute_result"
    }
   ],
   "source": [
    "data_explore.head()"
   ]
  },
  {
   "cell_type": "code",
   "execution_count": 5,
   "metadata": {},
   "outputs": [
    {
     "data": {
      "text/html": [
       "<div>\n",
       "<style scoped>\n",
       "    .dataframe tbody tr th:only-of-type {\n",
       "        vertical-align: middle;\n",
       "    }\n",
       "\n",
       "    .dataframe tbody tr th {\n",
       "        vertical-align: top;\n",
       "    }\n",
       "\n",
       "    .dataframe thead th {\n",
       "        text-align: right;\n",
       "    }\n",
       "</style>\n",
       "<table border=\"1\" class=\"dataframe\">\n",
       "  <thead>\n",
       "    <tr style=\"text-align: right;\">\n",
       "      <th></th>\n",
       "      <th>Average_Age</th>\n",
       "    </tr>\n",
       "  </thead>\n",
       "  <tbody>\n",
       "    <tr>\n",
       "      <th>0</th>\n",
       "      <td>77.013405</td>\n",
       "    </tr>\n",
       "  </tbody>\n",
       "</table>\n",
       "</div>"
      ],
      "text/plain": [
       "   Average_Age\n",
       "0    77.013405"
      ]
     },
     "execution_count": 5,
     "metadata": {},
     "output_type": "execute_result"
    }
   ],
   "source": [
    "# display the average age of the patients\n",
    "pd.read_sql('select avg(\"Age\") as Average_Age from Data_Wrangled', conn)"
   ]
  },
  {
   "cell_type": "code",
   "execution_count": 6,
   "metadata": {},
   "outputs": [
    {
     "data": {
      "text/html": [
       "<div>\n",
       "<style scoped>\n",
       "    .dataframe tbody tr th:only-of-type {\n",
       "        vertical-align: middle;\n",
       "    }\n",
       "\n",
       "    .dataframe tbody tr th {\n",
       "        vertical-align: top;\n",
       "    }\n",
       "\n",
       "    .dataframe thead th {\n",
       "        text-align: right;\n",
       "    }\n",
       "</style>\n",
       "<table border=\"1\" class=\"dataframe\">\n",
       "  <thead>\n",
       "    <tr style=\"text-align: right;\">\n",
       "      <th></th>\n",
       "      <th>Group</th>\n",
       "      <th>Number_Patients</th>\n",
       "    </tr>\n",
       "  </thead>\n",
       "  <tbody>\n",
       "    <tr>\n",
       "      <th>0</th>\n",
       "      <td>Converted</td>\n",
       "      <td>14</td>\n",
       "    </tr>\n",
       "    <tr>\n",
       "      <th>1</th>\n",
       "      <td>Demented</td>\n",
       "      <td>64</td>\n",
       "    </tr>\n",
       "    <tr>\n",
       "      <th>2</th>\n",
       "      <td>Nondemented</td>\n",
       "      <td>72</td>\n",
       "    </tr>\n",
       "  </tbody>\n",
       "</table>\n",
       "</div>"
      ],
      "text/plain": [
       "         Group  Number_Patients\n",
       "0    Converted               14\n",
       "1     Demented               64\n",
       "2  Nondemented               72"
      ]
     },
     "execution_count": 6,
     "metadata": {},
     "output_type": "execute_result"
    }
   ],
   "source": [
    "# determine the number of patients with dementia, without dementia, and converted\n",
    "pd.read_sql('select \"Group\", count(distinct(\"Subject ID\")) as \"Number_Patients\" from Raw_Data group by \"Group\";', conn)"
   ]
  },
  {
   "cell_type": "code",
   "execution_count": 7,
   "metadata": {},
   "outputs": [
    {
     "data": {
      "text/html": [
       "<div>\n",
       "<style scoped>\n",
       "    .dataframe tbody tr th:only-of-type {\n",
       "        vertical-align: middle;\n",
       "    }\n",
       "\n",
       "    .dataframe tbody tr th {\n",
       "        vertical-align: top;\n",
       "    }\n",
       "\n",
       "    .dataframe thead th {\n",
       "        text-align: right;\n",
       "    }\n",
       "</style>\n",
       "<table border=\"1\" class=\"dataframe\">\n",
       "  <thead>\n",
       "    <tr style=\"text-align: right;\">\n",
       "      <th></th>\n",
       "      <th>Number_Patients</th>\n",
       "    </tr>\n",
       "  </thead>\n",
       "  <tbody>\n",
       "    <tr>\n",
       "      <th>0</th>\n",
       "      <td>150</td>\n",
       "    </tr>\n",
       "  </tbody>\n",
       "</table>\n",
       "</div>"
      ],
      "text/plain": [
       "   Number_Patients\n",
       "0              150"
      ]
     },
     "execution_count": 7,
     "metadata": {},
     "output_type": "execute_result"
    }
   ],
   "source": [
    "# determine the number of patients in the study\n",
    "pd.read_sql('select count(distinct(\"Subject ID\")) as \"Number_Patients\" from Data_Wrangled;', conn)"
   ]
  },
  {
   "cell_type": "code",
   "execution_count": 8,
   "metadata": {},
   "outputs": [
    {
     "data": {
      "text/html": [
       "<div>\n",
       "<style scoped>\n",
       "    .dataframe tbody tr th:only-of-type {\n",
       "        vertical-align: middle;\n",
       "    }\n",
       "\n",
       "    .dataframe tbody tr th {\n",
       "        vertical-align: top;\n",
       "    }\n",
       "\n",
       "    .dataframe thead th {\n",
       "        text-align: right;\n",
       "    }\n",
       "</style>\n",
       "<table border=\"1\" class=\"dataframe\">\n",
       "  <thead>\n",
       "    <tr style=\"text-align: right;\">\n",
       "      <th></th>\n",
       "      <th>Average_MMSE</th>\n",
       "      <th>Max_MMSE</th>\n",
       "      <th>Min_MMSE</th>\n",
       "    </tr>\n",
       "  </thead>\n",
       "  <tbody>\n",
       "    <tr>\n",
       "      <th>0</th>\n",
       "      <td>27.340483</td>\n",
       "      <td>30.0</td>\n",
       "      <td>4.0</td>\n",
       "    </tr>\n",
       "  </tbody>\n",
       "</table>\n",
       "</div>"
      ],
      "text/plain": [
       "   Average_MMSE  Max_MMSE  Min_MMSE\n",
       "0     27.340483      30.0       4.0"
      ]
     },
     "execution_count": 8,
     "metadata": {},
     "output_type": "execute_result"
    }
   ],
   "source": [
    "# Determine the average, maximum, and minumum MMSE of the study\n",
    "pd.read_sql('select avg(MMSE) as \"Average_MMSE\", max(MMSE) as \"Max_MMSE\", min(MMSE) as \"Min_MMSE\" from Data_Wrangled;', conn)"
   ]
  },
  {
   "cell_type": "code",
   "execution_count": 9,
   "metadata": {},
   "outputs": [
    {
     "data": {
      "text/html": [
       "<div>\n",
       "<style scoped>\n",
       "    .dataframe tbody tr th:only-of-type {\n",
       "        vertical-align: middle;\n",
       "    }\n",
       "\n",
       "    .dataframe tbody tr th {\n",
       "        vertical-align: top;\n",
       "    }\n",
       "\n",
       "    .dataframe thead th {\n",
       "        text-align: right;\n",
       "    }\n",
       "</style>\n",
       "<table border=\"1\" class=\"dataframe\">\n",
       "  <thead>\n",
       "    <tr style=\"text-align: right;\">\n",
       "      <th></th>\n",
       "      <th>Average_CDR</th>\n",
       "      <th>Max_CDR</th>\n",
       "      <th>Min_CDR</th>\n",
       "    </tr>\n",
       "  </thead>\n",
       "  <tbody>\n",
       "    <tr>\n",
       "      <th>0</th>\n",
       "      <td>0.290885</td>\n",
       "      <td>2.0</td>\n",
       "      <td>0.0</td>\n",
       "    </tr>\n",
       "  </tbody>\n",
       "</table>\n",
       "</div>"
      ],
      "text/plain": [
       "   Average_CDR  Max_CDR  Min_CDR\n",
       "0     0.290885      2.0      0.0"
      ]
     },
     "execution_count": 9,
     "metadata": {},
     "output_type": "execute_result"
    }
   ],
   "source": [
    "# Determine the average, maximum, and minumum CDR of the study\n",
    "pd.read_sql('select avg(CDR) as \"Average_CDR\", max(CDR) as \"Max_CDR\", min(CDR) as \"Min_CDR\" from Data_Wrangled;', conn)"
   ]
  },
  {
   "cell_type": "code",
   "execution_count": 10,
   "metadata": {},
   "outputs": [
    {
     "data": {
      "text/html": [
       "<div>\n",
       "<style scoped>\n",
       "    .dataframe tbody tr th:only-of-type {\n",
       "        vertical-align: middle;\n",
       "    }\n",
       "\n",
       "    .dataframe tbody tr th {\n",
       "        vertical-align: top;\n",
       "    }\n",
       "\n",
       "    .dataframe thead th {\n",
       "        text-align: right;\n",
       "    }\n",
       "</style>\n",
       "<table border=\"1\" class=\"dataframe\">\n",
       "  <thead>\n",
       "    <tr style=\"text-align: right;\">\n",
       "      <th></th>\n",
       "      <th>M/F</th>\n",
       "      <th>Number_Patients</th>\n",
       "    </tr>\n",
       "  </thead>\n",
       "  <tbody>\n",
       "    <tr>\n",
       "      <th>0</th>\n",
       "      <td>F</td>\n",
       "      <td>88</td>\n",
       "    </tr>\n",
       "    <tr>\n",
       "      <th>1</th>\n",
       "      <td>M</td>\n",
       "      <td>62</td>\n",
       "    </tr>\n",
       "  </tbody>\n",
       "</table>\n",
       "</div>"
      ],
      "text/plain": [
       "  M/F  Number_Patients\n",
       "0   F               88\n",
       "1   M               62"
      ]
     },
     "execution_count": 10,
     "metadata": {},
     "output_type": "execute_result"
    }
   ],
   "source": [
    "# determine the number of male and female patients in the study\n",
    "pd.read_sql('select \"M/F\", count(distinct(\"Subject ID\")) as \"Number_Patients\" from Raw_Data group by \"M/F\";', conn)"
   ]
  },
  {
   "cell_type": "code",
   "execution_count": 11,
   "metadata": {},
   "outputs": [
    {
     "data": {
      "text/html": [
       "<div>\n",
       "<style scoped>\n",
       "    .dataframe tbody tr th:only-of-type {\n",
       "        vertical-align: middle;\n",
       "    }\n",
       "\n",
       "    .dataframe tbody tr th {\n",
       "        vertical-align: top;\n",
       "    }\n",
       "\n",
       "    .dataframe thead th {\n",
       "        text-align: right;\n",
       "    }\n",
       "</style>\n",
       "<table border=\"1\" class=\"dataframe\">\n",
       "  <thead>\n",
       "    <tr style=\"text-align: right;\">\n",
       "      <th></th>\n",
       "      <th>Max_Visits</th>\n",
       "    </tr>\n",
       "  </thead>\n",
       "  <tbody>\n",
       "    <tr>\n",
       "      <th>0</th>\n",
       "      <td>5</td>\n",
       "    </tr>\n",
       "  </tbody>\n",
       "</table>\n",
       "</div>"
      ],
      "text/plain": [
       "   Max_Visits\n",
       "0           5"
      ]
     },
     "execution_count": 11,
     "metadata": {},
     "output_type": "execute_result"
    }
   ],
   "source": [
    "# maximum number of patient visits\n",
    "pd.read_sql('select max(\"Visit\") as \"Max_Visits\" from Data_Wrangled;', conn)"
   ]
  },
  {
   "cell_type": "code",
   "execution_count": 12,
   "metadata": {},
   "outputs": [
    {
     "data": {
      "text/html": [
       "<div>\n",
       "<style scoped>\n",
       "    .dataframe tbody tr th:only-of-type {\n",
       "        vertical-align: middle;\n",
       "    }\n",
       "\n",
       "    .dataframe tbody tr th {\n",
       "        vertical-align: top;\n",
       "    }\n",
       "\n",
       "    .dataframe thead th {\n",
       "        text-align: right;\n",
       "    }\n",
       "</style>\n",
       "<table border=\"1\" class=\"dataframe\">\n",
       "  <thead>\n",
       "    <tr style=\"text-align: right;\">\n",
       "      <th></th>\n",
       "      <th>level_0</th>\n",
       "      <th>index</th>\n",
       "      <th>Subject ID</th>\n",
       "      <th>MRI ID</th>\n",
       "      <th>Group</th>\n",
       "      <th>Visit</th>\n",
       "      <th>MR Delay</th>\n",
       "      <th>M/F</th>\n",
       "      <th>Age</th>\n",
       "      <th>EDUC</th>\n",
       "      <th>SES</th>\n",
       "      <th>MMSE</th>\n",
       "      <th>CDR</th>\n",
       "      <th>eTIV</th>\n",
       "      <th>nWBV</th>\n",
       "      <th>ASF</th>\n",
       "      <th>Group_Converted</th>\n",
       "      <th>Group_Demented</th>\n",
       "      <th>Group_Nondemented</th>\n",
       "    </tr>\n",
       "  </thead>\n",
       "  <tbody>\n",
       "    <tr>\n",
       "      <th>0</th>\n",
       "      <td>0</td>\n",
       "      <td>0</td>\n",
       "      <td>OAS2_0001</td>\n",
       "      <td>OAS2_0001_MR1</td>\n",
       "      <td>Nondemented</td>\n",
       "      <td>1</td>\n",
       "      <td>0</td>\n",
       "      <td>1</td>\n",
       "      <td>87</td>\n",
       "      <td>14</td>\n",
       "      <td>2.0</td>\n",
       "      <td>27.0</td>\n",
       "      <td>0.0</td>\n",
       "      <td>1987</td>\n",
       "      <td>0.696</td>\n",
       "      <td>0.883</td>\n",
       "      <td>0</td>\n",
       "      <td>0</td>\n",
       "      <td>1</td>\n",
       "    </tr>\n",
       "    <tr>\n",
       "      <th>1</th>\n",
       "      <td>2</td>\n",
       "      <td>2</td>\n",
       "      <td>OAS2_0002</td>\n",
       "      <td>OAS2_0002_MR1</td>\n",
       "      <td>Demented</td>\n",
       "      <td>1</td>\n",
       "      <td>0</td>\n",
       "      <td>1</td>\n",
       "      <td>75</td>\n",
       "      <td>12</td>\n",
       "      <td>2.0</td>\n",
       "      <td>23.0</td>\n",
       "      <td>0.5</td>\n",
       "      <td>1678</td>\n",
       "      <td>0.736</td>\n",
       "      <td>1.046</td>\n",
       "      <td>0</td>\n",
       "      <td>1</td>\n",
       "      <td>0</td>\n",
       "    </tr>\n",
       "    <tr>\n",
       "      <th>2</th>\n",
       "      <td>5</td>\n",
       "      <td>5</td>\n",
       "      <td>OAS2_0004</td>\n",
       "      <td>OAS2_0004_MR1</td>\n",
       "      <td>Nondemented</td>\n",
       "      <td>1</td>\n",
       "      <td>0</td>\n",
       "      <td>0</td>\n",
       "      <td>88</td>\n",
       "      <td>18</td>\n",
       "      <td>3.0</td>\n",
       "      <td>28.0</td>\n",
       "      <td>0.0</td>\n",
       "      <td>1215</td>\n",
       "      <td>0.710</td>\n",
       "      <td>1.444</td>\n",
       "      <td>0</td>\n",
       "      <td>0</td>\n",
       "      <td>1</td>\n",
       "    </tr>\n",
       "    <tr>\n",
       "      <th>3</th>\n",
       "      <td>7</td>\n",
       "      <td>7</td>\n",
       "      <td>OAS2_0005</td>\n",
       "      <td>OAS2_0005_MR1</td>\n",
       "      <td>Nondemented</td>\n",
       "      <td>1</td>\n",
       "      <td>0</td>\n",
       "      <td>1</td>\n",
       "      <td>80</td>\n",
       "      <td>12</td>\n",
       "      <td>4.0</td>\n",
       "      <td>28.0</td>\n",
       "      <td>0.0</td>\n",
       "      <td>1689</td>\n",
       "      <td>0.712</td>\n",
       "      <td>1.039</td>\n",
       "      <td>0</td>\n",
       "      <td>0</td>\n",
       "      <td>1</td>\n",
       "    </tr>\n",
       "    <tr>\n",
       "      <th>4</th>\n",
       "      <td>10</td>\n",
       "      <td>10</td>\n",
       "      <td>OAS2_0007</td>\n",
       "      <td>OAS2_0007_MR1</td>\n",
       "      <td>Demented</td>\n",
       "      <td>1</td>\n",
       "      <td>0</td>\n",
       "      <td>1</td>\n",
       "      <td>71</td>\n",
       "      <td>16</td>\n",
       "      <td>2.0</td>\n",
       "      <td>28.0</td>\n",
       "      <td>0.5</td>\n",
       "      <td>1357</td>\n",
       "      <td>0.748</td>\n",
       "      <td>1.293</td>\n",
       "      <td>0</td>\n",
       "      <td>1</td>\n",
       "      <td>0</td>\n",
       "    </tr>\n",
       "    <tr>\n",
       "      <th>...</th>\n",
       "      <td>...</td>\n",
       "      <td>...</td>\n",
       "      <td>...</td>\n",
       "      <td>...</td>\n",
       "      <td>...</td>\n",
       "      <td>...</td>\n",
       "      <td>...</td>\n",
       "      <td>...</td>\n",
       "      <td>...</td>\n",
       "      <td>...</td>\n",
       "      <td>...</td>\n",
       "      <td>...</td>\n",
       "      <td>...</td>\n",
       "      <td>...</td>\n",
       "      <td>...</td>\n",
       "      <td>...</td>\n",
       "      <td>...</td>\n",
       "      <td>...</td>\n",
       "      <td>...</td>\n",
       "    </tr>\n",
       "    <tr>\n",
       "      <th>145</th>\n",
       "      <td>359</td>\n",
       "      <td>359</td>\n",
       "      <td>OAS2_0182</td>\n",
       "      <td>OAS2_0182_MR1</td>\n",
       "      <td>Demented</td>\n",
       "      <td>1</td>\n",
       "      <td>0</td>\n",
       "      <td>1</td>\n",
       "      <td>73</td>\n",
       "      <td>12</td>\n",
       "      <td>2.0</td>\n",
       "      <td>23.0</td>\n",
       "      <td>0.5</td>\n",
       "      <td>1661</td>\n",
       "      <td>0.698</td>\n",
       "      <td>1.056</td>\n",
       "      <td>0</td>\n",
       "      <td>1</td>\n",
       "      <td>0</td>\n",
       "    </tr>\n",
       "    <tr>\n",
       "      <th>146</th>\n",
       "      <td>361</td>\n",
       "      <td>361</td>\n",
       "      <td>OAS2_0183</td>\n",
       "      <td>OAS2_0183_MR1</td>\n",
       "      <td>Nondemented</td>\n",
       "      <td>1</td>\n",
       "      <td>0</td>\n",
       "      <td>0</td>\n",
       "      <td>66</td>\n",
       "      <td>13</td>\n",
       "      <td>2.0</td>\n",
       "      <td>30.0</td>\n",
       "      <td>0.0</td>\n",
       "      <td>1495</td>\n",
       "      <td>0.746</td>\n",
       "      <td>1.174</td>\n",
       "      <td>0</td>\n",
       "      <td>0</td>\n",
       "      <td>1</td>\n",
       "    </tr>\n",
       "    <tr>\n",
       "      <th>147</th>\n",
       "      <td>365</td>\n",
       "      <td>365</td>\n",
       "      <td>OAS2_0184</td>\n",
       "      <td>OAS2_0184_MR1</td>\n",
       "      <td>Demented</td>\n",
       "      <td>1</td>\n",
       "      <td>0</td>\n",
       "      <td>0</td>\n",
       "      <td>72</td>\n",
       "      <td>16</td>\n",
       "      <td>3.0</td>\n",
       "      <td>24.0</td>\n",
       "      <td>0.5</td>\n",
       "      <td>1354</td>\n",
       "      <td>0.733</td>\n",
       "      <td>1.296</td>\n",
       "      <td>0</td>\n",
       "      <td>1</td>\n",
       "      <td>0</td>\n",
       "    </tr>\n",
       "    <tr>\n",
       "      <th>148</th>\n",
       "      <td>367</td>\n",
       "      <td>367</td>\n",
       "      <td>OAS2_0185</td>\n",
       "      <td>OAS2_0185_MR1</td>\n",
       "      <td>Demented</td>\n",
       "      <td>1</td>\n",
       "      <td>0</td>\n",
       "      <td>1</td>\n",
       "      <td>80</td>\n",
       "      <td>16</td>\n",
       "      <td>1.0</td>\n",
       "      <td>28.0</td>\n",
       "      <td>0.5</td>\n",
       "      <td>1704</td>\n",
       "      <td>0.711</td>\n",
       "      <td>1.030</td>\n",
       "      <td>0</td>\n",
       "      <td>1</td>\n",
       "      <td>0</td>\n",
       "    </tr>\n",
       "    <tr>\n",
       "      <th>149</th>\n",
       "      <td>370</td>\n",
       "      <td>370</td>\n",
       "      <td>OAS2_0186</td>\n",
       "      <td>OAS2_0186_MR1</td>\n",
       "      <td>Nondemented</td>\n",
       "      <td>1</td>\n",
       "      <td>0</td>\n",
       "      <td>0</td>\n",
       "      <td>61</td>\n",
       "      <td>13</td>\n",
       "      <td>2.0</td>\n",
       "      <td>30.0</td>\n",
       "      <td>0.0</td>\n",
       "      <td>1319</td>\n",
       "      <td>0.801</td>\n",
       "      <td>1.331</td>\n",
       "      <td>0</td>\n",
       "      <td>0</td>\n",
       "      <td>1</td>\n",
       "    </tr>\n",
       "  </tbody>\n",
       "</table>\n",
       "<p>150 rows × 19 columns</p>\n",
       "</div>"
      ],
      "text/plain": [
       "     level_0  index Subject ID         MRI ID        Group  Visit  MR Delay  \\\n",
       "0          0      0  OAS2_0001  OAS2_0001_MR1  Nondemented      1         0   \n",
       "1          2      2  OAS2_0002  OAS2_0002_MR1     Demented      1         0   \n",
       "2          5      5  OAS2_0004  OAS2_0004_MR1  Nondemented      1         0   \n",
       "3          7      7  OAS2_0005  OAS2_0005_MR1  Nondemented      1         0   \n",
       "4         10     10  OAS2_0007  OAS2_0007_MR1     Demented      1         0   \n",
       "..       ...    ...        ...            ...          ...    ...       ...   \n",
       "145      359    359  OAS2_0182  OAS2_0182_MR1     Demented      1         0   \n",
       "146      361    361  OAS2_0183  OAS2_0183_MR1  Nondemented      1         0   \n",
       "147      365    365  OAS2_0184  OAS2_0184_MR1     Demented      1         0   \n",
       "148      367    367  OAS2_0185  OAS2_0185_MR1     Demented      1         0   \n",
       "149      370    370  OAS2_0186  OAS2_0186_MR1  Nondemented      1         0   \n",
       "\n",
       "     M/F  Age  EDUC  SES  MMSE  CDR  eTIV   nWBV    ASF  Group_Converted  \\\n",
       "0      1   87    14  2.0  27.0  0.0  1987  0.696  0.883                0   \n",
       "1      1   75    12  2.0  23.0  0.5  1678  0.736  1.046                0   \n",
       "2      0   88    18  3.0  28.0  0.0  1215  0.710  1.444                0   \n",
       "3      1   80    12  4.0  28.0  0.0  1689  0.712  1.039                0   \n",
       "4      1   71    16  2.0  28.0  0.5  1357  0.748  1.293                0   \n",
       "..   ...  ...   ...  ...   ...  ...   ...    ...    ...              ...   \n",
       "145    1   73    12  2.0  23.0  0.5  1661  0.698  1.056                0   \n",
       "146    0   66    13  2.0  30.0  0.0  1495  0.746  1.174                0   \n",
       "147    0   72    16  3.0  24.0  0.5  1354  0.733  1.296                0   \n",
       "148    1   80    16  1.0  28.0  0.5  1704  0.711  1.030                0   \n",
       "149    0   61    13  2.0  30.0  0.0  1319  0.801  1.331                0   \n",
       "\n",
       "     Group_Demented  Group_Nondemented  \n",
       "0                 0                  1  \n",
       "1                 1                  0  \n",
       "2                 0                  1  \n",
       "3                 0                  1  \n",
       "4                 1                  0  \n",
       "..              ...                ...  \n",
       "145               1                  0  \n",
       "146               0                  1  \n",
       "147               1                  0  \n",
       "148               1                  0  \n",
       "149               0                  1  \n",
       "\n",
       "[150 rows x 19 columns]"
      ]
     },
     "execution_count": 12,
     "metadata": {},
     "output_type": "execute_result"
    }
   ],
   "source": [
    "# group data by visit number\n",
    "pd.read_sql('select * from Data_Wrangled where \"Visit\" = 1;', conn)"
   ]
  },
  {
   "cell_type": "code",
   "execution_count": 13,
   "metadata": {},
   "outputs": [
    {
     "data": {
      "text/html": [
       "<div>\n",
       "<style scoped>\n",
       "    .dataframe tbody tr th:only-of-type {\n",
       "        vertical-align: middle;\n",
       "    }\n",
       "\n",
       "    .dataframe tbody tr th {\n",
       "        vertical-align: top;\n",
       "    }\n",
       "\n",
       "    .dataframe thead th {\n",
       "        text-align: right;\n",
       "    }\n",
       "</style>\n",
       "<table border=\"1\" class=\"dataframe\">\n",
       "  <thead>\n",
       "    <tr style=\"text-align: right;\">\n",
       "      <th></th>\n",
       "      <th>Number_Patients_Male</th>\n",
       "      <th>Group</th>\n",
       "    </tr>\n",
       "  </thead>\n",
       "  <tbody>\n",
       "    <tr>\n",
       "      <th>0</th>\n",
       "      <td>4</td>\n",
       "      <td>Converted</td>\n",
       "    </tr>\n",
       "    <tr>\n",
       "      <th>1</th>\n",
       "      <td>36</td>\n",
       "      <td>Demented</td>\n",
       "    </tr>\n",
       "    <tr>\n",
       "      <th>2</th>\n",
       "      <td>22</td>\n",
       "      <td>Nondemented</td>\n",
       "    </tr>\n",
       "  </tbody>\n",
       "</table>\n",
       "</div>"
      ],
      "text/plain": [
       "   Number_Patients_Male        Group\n",
       "0                     4    Converted\n",
       "1                    36     Demented\n",
       "2                    22  Nondemented"
      ]
     },
     "execution_count": 13,
     "metadata": {},
     "output_type": "execute_result"
    }
   ],
   "source": [
    "# determine the number of male patients in the study with Dementia\n",
    "male_data = pd.read_sql('select count(distinct(\"Subject ID\")) as \"Number_Patients_Male\", \"Group\" from Raw_Data where \"M/F\" = \"M\" group by \"Group\";', conn)\n",
    "male_data"
   ]
  },
  {
   "cell_type": "code",
   "execution_count": 14,
   "metadata": {},
   "outputs": [],
   "source": [
    "# determine the number of Female patients in the study with Dementia\n",
    "female_data = pd.read_sql('select count(distinct(\"Subject ID\")) as \"Number_Patients_Female\", \"Group\" from Raw_Data where \"M/F\" = \"F\" group by \"Group\";', conn)"
   ]
  },
  {
   "cell_type": "code",
   "execution_count": 15,
   "metadata": {},
   "outputs": [],
   "source": [
    "# function to get percentages\n",
    "# Numbers is subest of one of the columns that you are interested in having a percent of\n",
    "# Total is the total of that subset\n",
    "def MakePercentages(Numbers,Total):\n",
    "    percentages = [(elem/Total)*100 for elem in Numbers]\n",
    "    return pd.DataFrame({'Percentages':percentages,'Group':['Converted','Demented','Nondemented']})"
   ]
  },
  {
   "cell_type": "code",
   "execution_count": 16,
   "metadata": {},
   "outputs": [
    {
     "data": {
      "text/html": [
       "<div>\n",
       "<style scoped>\n",
       "    .dataframe tbody tr th:only-of-type {\n",
       "        vertical-align: middle;\n",
       "    }\n",
       "\n",
       "    .dataframe tbody tr th {\n",
       "        vertical-align: top;\n",
       "    }\n",
       "\n",
       "    .dataframe thead th {\n",
       "        text-align: right;\n",
       "    }\n",
       "</style>\n",
       "<table border=\"1\" class=\"dataframe\">\n",
       "  <thead>\n",
       "    <tr style=\"text-align: right;\">\n",
       "      <th></th>\n",
       "      <th>Percentages</th>\n",
       "      <th>Group</th>\n",
       "    </tr>\n",
       "  </thead>\n",
       "  <tbody>\n",
       "    <tr>\n",
       "      <th>0</th>\n",
       "      <td>6.451613</td>\n",
       "      <td>Converted</td>\n",
       "    </tr>\n",
       "    <tr>\n",
       "      <th>1</th>\n",
       "      <td>58.064516</td>\n",
       "      <td>Demented</td>\n",
       "    </tr>\n",
       "    <tr>\n",
       "      <th>2</th>\n",
       "      <td>35.483871</td>\n",
       "      <td>Nondemented</td>\n",
       "    </tr>\n",
       "  </tbody>\n",
       "</table>\n",
       "</div>"
      ],
      "text/plain": [
       "   Percentages        Group\n",
       "0     6.451613    Converted\n",
       "1    58.064516     Demented\n",
       "2    35.483871  Nondemented"
      ]
     },
     "execution_count": 16,
     "metadata": {},
     "output_type": "execute_result"
    }
   ],
   "source": [
    "# calculate percentage of males with and without dementia and compare\n",
    "number_males = pd.read_sql('select count(distinct(\"Subject ID\")) as \"Number_Patients\" from Raw_Data where \"M/F\" = \"M\";', conn).at[0,'Number_Patients']\n",
    "male_data_percentages_df = MakePercentages(male_data['Number_Patients_Male'],number_males)\n",
    "male_data_percentages_df"
   ]
  },
  {
   "cell_type": "code",
   "execution_count": 17,
   "metadata": {},
   "outputs": [
    {
     "data": {
      "text/html": [
       "<div>\n",
       "<style scoped>\n",
       "    .dataframe tbody tr th:only-of-type {\n",
       "        vertical-align: middle;\n",
       "    }\n",
       "\n",
       "    .dataframe tbody tr th {\n",
       "        vertical-align: top;\n",
       "    }\n",
       "\n",
       "    .dataframe thead th {\n",
       "        text-align: right;\n",
       "    }\n",
       "</style>\n",
       "<table border=\"1\" class=\"dataframe\">\n",
       "  <thead>\n",
       "    <tr style=\"text-align: right;\">\n",
       "      <th></th>\n",
       "      <th>Percentages</th>\n",
       "      <th>Group</th>\n",
       "    </tr>\n",
       "  </thead>\n",
       "  <tbody>\n",
       "    <tr>\n",
       "      <th>0</th>\n",
       "      <td>11.363636</td>\n",
       "      <td>Converted</td>\n",
       "    </tr>\n",
       "    <tr>\n",
       "      <th>1</th>\n",
       "      <td>31.818182</td>\n",
       "      <td>Demented</td>\n",
       "    </tr>\n",
       "    <tr>\n",
       "      <th>2</th>\n",
       "      <td>56.818182</td>\n",
       "      <td>Nondemented</td>\n",
       "    </tr>\n",
       "  </tbody>\n",
       "</table>\n",
       "</div>"
      ],
      "text/plain": [
       "   Percentages        Group\n",
       "0    11.363636    Converted\n",
       "1    31.818182     Demented\n",
       "2    56.818182  Nondemented"
      ]
     },
     "execution_count": 17,
     "metadata": {},
     "output_type": "execute_result"
    }
   ],
   "source": [
    "# calculate the percentage of females with and without dementia\n",
    "number_females = pd.read_sql('select count(distinct(\"Subject ID\")) as \"Number_Patients\" from Raw_Data where \"M/F\" = \"F\";', conn).at[0,'Number_Patients']\n",
    "female_data_percentages_df = MakePercentages(female_data['Number_Patients_Female'],number_females)\n",
    "female_data_percentages_df"
   ]
  },
  {
   "cell_type": "markdown",
   "metadata": {},
   "source": [
    "### Scatter Plots"
   ]
  },
  {
   "cell_type": "code",
   "execution_count": 18,
   "metadata": {},
   "outputs": [
    {
     "data": {
      "image/png": "[encoded data removed]",
      "text/plain": [
       "<Figure size 1558.88x500 with 1 Axes>"
      ]
     },
     "metadata": {},
     "output_type": "display_data"
    }
   ],
   "source": [
    "# Sex vs Group with the legend showing visit number\n",
    "age_v_group = pd.read_sql('select \"Group\", \"M/F\", \"Visit\" from Raw_Data;', conn)\n",
    "sns.catplot(y='Group', x='M/F', hue='Visit', data=age_v_group, aspect=3)\n",
    "plt.xlabel('Sex', fontsize = 20)\n",
    "plt.ylabel('Group', fontsize = 20)\n",
    "plt.show()"
   ]
  },
  {
   "cell_type": "code",
   "execution_count": 19,
   "metadata": {},
   "outputs": [
    {
     "data": {
      "image/png": "[encoded data removed]",
      "text/plain": [
       "<Figure size 1558.88x500 with 1 Axes>"
      ]
     },
     "metadata": {},
     "output_type": "display_data"
    }
   ],
   "source": [
    "# Age vs Group with the legend showing visit number\n",
    "age_v_group = pd.read_sql('select \"Group\", \"Age\", \"Visit\" from Data_Wrangled;', conn)\n",
    "sns.catplot(y='Group', x='Age', hue='Visit', data=age_v_group, aspect=3)\n",
    "plt.xlabel('Age', fontsize = 20)\n",
    "plt.ylabel('Group', fontsize = 20)\n",
    "plt.show()\n"
   ]
  },
  {
   "cell_type": "code",
   "execution_count": 20,
   "metadata": {},
   "outputs": [
    {
     "data": {
      "image/png": "[encoded data removed]",
      "text/plain": [
       "<Figure size 1558.88x500 with 1 Axes>"
      ]
     },
     "metadata": {},
     "output_type": "display_data"
    }
   ],
   "source": [
    "# Education vs Group with the legend showing visit number\n",
    "educ_v_group = pd.read_sql('select \"CDR\", \"EDUC\", \"Visit\" from Data_Wrangled;', conn)\n",
    "sns.catplot(y='CDR', x='EDUC', hue='Visit', data=educ_v_group, aspect=3)\n",
    "plt.xlabel('Education Level', fontsize = 20)\n",
    "plt.ylabel('CDR', fontsize = 20)\n",
    "plt.show()\n"
   ]
  },
  {
   "cell_type": "code",
   "execution_count": 21,
   "metadata": {},
   "outputs": [
    {
     "data": {
      "image/png": "[encoded data removed]",
      "text/plain": [
       "<Figure size 808.875x500 with 1 Axes>"
      ]
     },
     "metadata": {},
     "output_type": "display_data"
    }
   ],
   "source": [
    "# SES vs Group with the legend showing visit number\n",
    "ses_v_group = pd.read_sql('select \"CDR\", \"SES\", \"Visit\" from Data_Wrangled;', conn)\n",
    "sns.catplot(y='CDR', x='SES', hue='Visit', data=ses_v_group, aspect=1.5)\n",
    "plt.xlabel('Social Economic Status', fontsize = 20)\n",
    "plt.ylabel('CDR', fontsize = 20)\n",
    "plt.show()"
   ]
  },
  {
   "cell_type": "markdown",
   "metadata": {},
   "source": [
    "### Correlation between Variables"
   ]
  },
  {
   "cell_type": "code",
   "execution_count": 22,
   "metadata": {},
   "outputs": [
    {
     "data": {
      "text/html": [
       "<div>\n",
       "<style scoped>\n",
       "    .dataframe tbody tr th:only-of-type {\n",
       "        vertical-align: middle;\n",
       "    }\n",
       "\n",
       "    .dataframe tbody tr th {\n",
       "        vertical-align: top;\n",
       "    }\n",
       "\n",
       "    .dataframe thead th {\n",
       "        text-align: right;\n",
       "    }\n",
       "</style>\n",
       "<table border=\"1\" class=\"dataframe\">\n",
       "  <thead>\n",
       "    <tr style=\"text-align: right;\">\n",
       "      <th></th>\n",
       "      <th>M/F</th>\n",
       "      <th>Age</th>\n",
       "      <th>EDUC</th>\n",
       "      <th>SES</th>\n",
       "      <th>MMSE</th>\n",
       "      <th>CDR</th>\n",
       "      <th>eTIV</th>\n",
       "      <th>nWBV</th>\n",
       "      <th>ASF</th>\n",
       "      <th>Group_Converted</th>\n",
       "      <th>Group_Demented</th>\n",
       "      <th>Group_Nondemented</th>\n",
       "    </tr>\n",
       "  </thead>\n",
       "  <tbody>\n",
       "    <tr>\n",
       "      <th>M/F</th>\n",
       "      <td>1.000000</td>\n",
       "      <td>-0.037726</td>\n",
       "      <td>0.089279</td>\n",
       "      <td>-0.048504</td>\n",
       "      <td>-0.166084</td>\n",
       "      <td>0.202140</td>\n",
       "      <td>0.572549</td>\n",
       "      <td>-0.249618</td>\n",
       "      <td>-0.561647</td>\n",
       "      <td>-0.052032</td>\n",
       "      <td>0.259405</td>\n",
       "      <td>-0.222146</td>\n",
       "    </tr>\n",
       "    <tr>\n",
       "      <th>Age</th>\n",
       "      <td>-0.037726</td>\n",
       "      <td>1.000000</td>\n",
       "      <td>-0.027886</td>\n",
       "      <td>-0.045410</td>\n",
       "      <td>0.055672</td>\n",
       "      <td>-0.026257</td>\n",
       "      <td>0.042348</td>\n",
       "      <td>-0.518359</td>\n",
       "      <td>-0.035067</td>\n",
       "      <td>0.119302</td>\n",
       "      <td>-0.079153</td>\n",
       "      <td>0.005941</td>\n",
       "    </tr>\n",
       "    <tr>\n",
       "      <th>EDUC</th>\n",
       "      <td>0.089279</td>\n",
       "      <td>-0.027886</td>\n",
       "      <td>1.000000</td>\n",
       "      <td>-0.691222</td>\n",
       "      <td>0.194902</td>\n",
       "      <td>-0.153121</td>\n",
       "      <td>0.257015</td>\n",
       "      <td>-0.012200</td>\n",
       "      <td>-0.241752</td>\n",
       "      <td>0.099536</td>\n",
       "      <td>-0.258708</td>\n",
       "      <td>0.193060</td>\n",
       "    </tr>\n",
       "    <tr>\n",
       "      <th>SES</th>\n",
       "      <td>-0.048504</td>\n",
       "      <td>-0.045410</td>\n",
       "      <td>-0.691222</td>\n",
       "      <td>1.000000</td>\n",
       "      <td>-0.138862</td>\n",
       "      <td>0.052313</td>\n",
       "      <td>-0.249030</td>\n",
       "      <td>0.092361</td>\n",
       "      <td>0.240831</td>\n",
       "      <td>-0.211859</td>\n",
       "      <td>0.169569</td>\n",
       "      <td>-0.038870</td>\n",
       "    </tr>\n",
       "    <tr>\n",
       "      <th>MMSE</th>\n",
       "      <td>-0.166084</td>\n",
       "      <td>0.055672</td>\n",
       "      <td>0.194902</td>\n",
       "      <td>-0.138862</td>\n",
       "      <td>1.000000</td>\n",
       "      <td>-0.680769</td>\n",
       "      <td>-0.030866</td>\n",
       "      <td>0.341742</td>\n",
       "      <td>0.038359</td>\n",
       "      <td>0.120778</td>\n",
       "      <td>-0.610486</td>\n",
       "      <td>0.523802</td>\n",
       "    </tr>\n",
       "    <tr>\n",
       "      <th>CDR</th>\n",
       "      <td>0.202140</td>\n",
       "      <td>-0.026257</td>\n",
       "      <td>-0.153121</td>\n",
       "      <td>0.052313</td>\n",
       "      <td>-0.680769</td>\n",
       "      <td>1.000000</td>\n",
       "      <td>0.022819</td>\n",
       "      <td>-0.344819</td>\n",
       "      <td>-0.029340</td>\n",
       "      <td>-0.030277</td>\n",
       "      <td>0.815473</td>\n",
       "      <td>-0.778049</td>\n",
       "    </tr>\n",
       "    <tr>\n",
       "      <th>eTIV</th>\n",
       "      <td>0.572549</td>\n",
       "      <td>0.042348</td>\n",
       "      <td>0.257015</td>\n",
       "      <td>-0.249030</td>\n",
       "      <td>-0.030866</td>\n",
       "      <td>0.022819</td>\n",
       "      <td>1.000000</td>\n",
       "      <td>-0.210122</td>\n",
       "      <td>-0.988877</td>\n",
       "      <td>-0.054442</td>\n",
       "      <td>-0.010392</td>\n",
       "      <td>0.042700</td>\n",
       "    </tr>\n",
       "    <tr>\n",
       "      <th>nWBV</th>\n",
       "      <td>-0.249618</td>\n",
       "      <td>-0.518359</td>\n",
       "      <td>-0.012200</td>\n",
       "      <td>0.092361</td>\n",
       "      <td>0.341742</td>\n",
       "      <td>-0.344819</td>\n",
       "      <td>-0.210122</td>\n",
       "      <td>1.000000</td>\n",
       "      <td>0.213476</td>\n",
       "      <td>-0.052245</td>\n",
       "      <td>-0.286903</td>\n",
       "      <td>0.311346</td>\n",
       "    </tr>\n",
       "    <tr>\n",
       "      <th>ASF</th>\n",
       "      <td>-0.561647</td>\n",
       "      <td>-0.035067</td>\n",
       "      <td>-0.241752</td>\n",
       "      <td>0.240831</td>\n",
       "      <td>0.038359</td>\n",
       "      <td>-0.029340</td>\n",
       "      <td>-0.988877</td>\n",
       "      <td>0.213476</td>\n",
       "      <td>1.000000</td>\n",
       "      <td>0.040773</td>\n",
       "      <td>0.008312</td>\n",
       "      <td>-0.032495</td>\n",
       "    </tr>\n",
       "    <tr>\n",
       "      <th>Group_Converted</th>\n",
       "      <td>-0.052032</td>\n",
       "      <td>0.119302</td>\n",
       "      <td>0.099536</td>\n",
       "      <td>-0.211859</td>\n",
       "      <td>0.120778</td>\n",
       "      <td>-0.030277</td>\n",
       "      <td>-0.054442</td>\n",
       "      <td>-0.052245</td>\n",
       "      <td>0.040773</td>\n",
       "      <td>1.000000</td>\n",
       "      <td>-0.266131</td>\n",
       "      <td>-0.338129</td>\n",
       "    </tr>\n",
       "    <tr>\n",
       "      <th>Group_Demented</th>\n",
       "      <td>0.259405</td>\n",
       "      <td>-0.079153</td>\n",
       "      <td>-0.258708</td>\n",
       "      <td>0.169569</td>\n",
       "      <td>-0.610486</td>\n",
       "      <td>0.815473</td>\n",
       "      <td>-0.010392</td>\n",
       "      <td>-0.286903</td>\n",
       "      <td>0.008312</td>\n",
       "      <td>-0.266131</td>\n",
       "      <td>1.000000</td>\n",
       "      <td>-0.817174</td>\n",
       "    </tr>\n",
       "    <tr>\n",
       "      <th>Group_Nondemented</th>\n",
       "      <td>-0.222146</td>\n",
       "      <td>0.005941</td>\n",
       "      <td>0.193060</td>\n",
       "      <td>-0.038870</td>\n",
       "      <td>0.523802</td>\n",
       "      <td>-0.778049</td>\n",
       "      <td>0.042700</td>\n",
       "      <td>0.311346</td>\n",
       "      <td>-0.032495</td>\n",
       "      <td>-0.338129</td>\n",
       "      <td>-0.817174</td>\n",
       "      <td>1.000000</td>\n",
       "    </tr>\n",
       "  </tbody>\n",
       "</table>\n",
       "</div>"
      ],
      "text/plain": [
       "                        M/F       Age      EDUC       SES      MMSE       CDR  \\\n",
       "M/F                1.000000 -0.037726  0.089279 -0.048504 -0.166084  0.202140   \n",
       "Age               -0.037726  1.000000 -0.027886 -0.045410  0.055672 -0.026257   \n",
       "EDUC               0.089279 -0.027886  1.000000 -0.691222  0.194902 -0.153121   \n",
       "SES               -0.048504 -0.045410 -0.691222  1.000000 -0.138862  0.052313   \n",
       "MMSE              -0.166084  0.055672  0.194902 -0.138862  1.000000 -0.680769   \n",
       "CDR                0.202140 -0.026257 -0.153121  0.052313 -0.680769  1.000000   \n",
       "eTIV               0.572549  0.042348  0.257015 -0.249030 -0.030866  0.022819   \n",
       "nWBV              -0.249618 -0.518359 -0.012200  0.092361  0.341742 -0.344819   \n",
       "ASF               -0.561647 -0.035067 -0.241752  0.240831  0.038359 -0.029340   \n",
       "Group_Converted   -0.052032  0.119302  0.099536 -0.211859  0.120778 -0.030277   \n",
       "Group_Demented     0.259405 -0.079153 -0.258708  0.169569 -0.610486  0.815473   \n",
       "Group_Nondemented -0.222146  0.005941  0.193060 -0.038870  0.523802 -0.778049   \n",
       "\n",
       "                       eTIV      nWBV       ASF  Group_Converted  \\\n",
       "M/F                0.572549 -0.249618 -0.561647        -0.052032   \n",
       "Age                0.042348 -0.518359 -0.035067         0.119302   \n",
       "EDUC               0.257015 -0.012200 -0.241752         0.099536   \n",
       "SES               -0.249030  0.092361  0.240831        -0.211859   \n",
       "MMSE              -0.030866  0.341742  0.038359         0.120778   \n",
       "CDR                0.022819 -0.344819 -0.029340        -0.030277   \n",
       "eTIV               1.000000 -0.210122 -0.988877        -0.054442   \n",
       "nWBV              -0.210122  1.000000  0.213476        -0.052245   \n",
       "ASF               -0.988877  0.213476  1.000000         0.040773   \n",
       "Group_Converted   -0.054442 -0.052245  0.040773         1.000000   \n",
       "Group_Demented    -0.010392 -0.286903  0.008312        -0.266131   \n",
       "Group_Nondemented  0.042700  0.311346 -0.032495        -0.338129   \n",
       "\n",
       "                   Group_Demented  Group_Nondemented  \n",
       "M/F                      0.259405          -0.222146  \n",
       "Age                     -0.079153           0.005941  \n",
       "EDUC                    -0.258708           0.193060  \n",
       "SES                      0.169569          -0.038870  \n",
       "MMSE                    -0.610486           0.523802  \n",
       "CDR                      0.815473          -0.778049  \n",
       "eTIV                    -0.010392           0.042700  \n",
       "nWBV                    -0.286903           0.311346  \n",
       "ASF                      0.008312          -0.032495  \n",
       "Group_Converted         -0.266131          -0.338129  \n",
       "Group_Demented           1.000000          -0.817174  \n",
       "Group_Nondemented       -0.817174           1.000000  "
      ]
     },
     "execution_count": 22,
     "metadata": {},
     "output_type": "execute_result"
    }
   ],
   "source": [
    "# use correlation function to find correlation between variables (1 = stong positive, -1 = strong negative, 0 = none)\n",
    "data_explore[['M/F','Age','EDUC','SES','MMSE','CDR','eTIV','nWBV','ASF','Group_Converted','Group_Demented','Group_Nondemented']].corr()"
   ]
  },
  {
   "cell_type": "markdown",
   "metadata": {},
   "source": [
    "MMSE and CDR are strongly negatively correlated, which is expected  \n",
    "nWBV shows a correlation to MMSE and CDR  \n",
    "M/F shows a correlation with Demented and Nondemented  "
   ]
  },
  {
   "cell_type": "code",
   "execution_count": 23,
   "metadata": {},
   "outputs": [
    {
     "data": {
      "text/html": [
       "<div>\n",
       "<style scoped>\n",
       "    .dataframe tbody tr th:only-of-type {\n",
       "        vertical-align: middle;\n",
       "    }\n",
       "\n",
       "    .dataframe tbody tr th {\n",
       "        vertical-align: top;\n",
       "    }\n",
       "\n",
       "    .dataframe thead th {\n",
       "        text-align: right;\n",
       "    }\n",
       "</style>\n",
       "<table border=\"1\" class=\"dataframe\">\n",
       "  <thead>\n",
       "    <tr style=\"text-align: right;\">\n",
       "      <th></th>\n",
       "      <th>level_0</th>\n",
       "      <th>index</th>\n",
       "      <th>Visit</th>\n",
       "      <th>MR Delay</th>\n",
       "      <th>M/F</th>\n",
       "      <th>Age</th>\n",
       "      <th>EDUC</th>\n",
       "      <th>SES</th>\n",
       "      <th>MMSE</th>\n",
       "      <th>CDR</th>\n",
       "      <th>eTIV</th>\n",
       "      <th>nWBV</th>\n",
       "      <th>ASF</th>\n",
       "      <th>Group_Converted</th>\n",
       "      <th>Group_Demented</th>\n",
       "      <th>Group_Nondemented</th>\n",
       "    </tr>\n",
       "  </thead>\n",
       "  <tbody>\n",
       "    <tr>\n",
       "      <th>count</th>\n",
       "      <td>373.000000</td>\n",
       "      <td>373.000000</td>\n",
       "      <td>373.000000</td>\n",
       "      <td>373.000000</td>\n",
       "      <td>373.000000</td>\n",
       "      <td>373.000000</td>\n",
       "      <td>373.000000</td>\n",
       "      <td>373.000000</td>\n",
       "      <td>373.000000</td>\n",
       "      <td>373.000000</td>\n",
       "      <td>373.000000</td>\n",
       "      <td>373.000000</td>\n",
       "      <td>373.000000</td>\n",
       "      <td>373.000000</td>\n",
       "      <td>373.000000</td>\n",
       "      <td>373.000000</td>\n",
       "    </tr>\n",
       "    <tr>\n",
       "      <th>mean</th>\n",
       "      <td>186.000000</td>\n",
       "      <td>186.000000</td>\n",
       "      <td>1.882038</td>\n",
       "      <td>595.104558</td>\n",
       "      <td>0.428954</td>\n",
       "      <td>77.013405</td>\n",
       "      <td>14.597855</td>\n",
       "      <td>2.436997</td>\n",
       "      <td>27.340483</td>\n",
       "      <td>0.290885</td>\n",
       "      <td>1488.128686</td>\n",
       "      <td>0.729568</td>\n",
       "      <td>1.195461</td>\n",
       "      <td>0.099196</td>\n",
       "      <td>0.391421</td>\n",
       "      <td>0.509383</td>\n",
       "    </tr>\n",
       "    <tr>\n",
       "      <th>std</th>\n",
       "      <td>107.820066</td>\n",
       "      <td>107.820066</td>\n",
       "      <td>0.922843</td>\n",
       "      <td>635.485118</td>\n",
       "      <td>0.495592</td>\n",
       "      <td>7.640957</td>\n",
       "      <td>2.876339</td>\n",
       "      <td>1.109307</td>\n",
       "      <td>3.673415</td>\n",
       "      <td>0.374557</td>\n",
       "      <td>176.139286</td>\n",
       "      <td>0.037135</td>\n",
       "      <td>0.138092</td>\n",
       "      <td>0.299326</td>\n",
       "      <td>0.488724</td>\n",
       "      <td>0.500583</td>\n",
       "    </tr>\n",
       "    <tr>\n",
       "      <th>min</th>\n",
       "      <td>0.000000</td>\n",
       "      <td>0.000000</td>\n",
       "      <td>1.000000</td>\n",
       "      <td>0.000000</td>\n",
       "      <td>0.000000</td>\n",
       "      <td>60.000000</td>\n",
       "      <td>6.000000</td>\n",
       "      <td>1.000000</td>\n",
       "      <td>4.000000</td>\n",
       "      <td>0.000000</td>\n",
       "      <td>1106.000000</td>\n",
       "      <td>0.644000</td>\n",
       "      <td>0.876000</td>\n",
       "      <td>0.000000</td>\n",
       "      <td>0.000000</td>\n",
       "      <td>0.000000</td>\n",
       "    </tr>\n",
       "    <tr>\n",
       "      <th>25%</th>\n",
       "      <td>93.000000</td>\n",
       "      <td>93.000000</td>\n",
       "      <td>1.000000</td>\n",
       "      <td>0.000000</td>\n",
       "      <td>0.000000</td>\n",
       "      <td>71.000000</td>\n",
       "      <td>12.000000</td>\n",
       "      <td>2.000000</td>\n",
       "      <td>27.000000</td>\n",
       "      <td>0.000000</td>\n",
       "      <td>1357.000000</td>\n",
       "      <td>0.700000</td>\n",
       "      <td>1.099000</td>\n",
       "      <td>0.000000</td>\n",
       "      <td>0.000000</td>\n",
       "      <td>0.000000</td>\n",
       "    </tr>\n",
       "    <tr>\n",
       "      <th>50%</th>\n",
       "      <td>186.000000</td>\n",
       "      <td>186.000000</td>\n",
       "      <td>2.000000</td>\n",
       "      <td>552.000000</td>\n",
       "      <td>0.000000</td>\n",
       "      <td>77.000000</td>\n",
       "      <td>15.000000</td>\n",
       "      <td>2.000000</td>\n",
       "      <td>29.000000</td>\n",
       "      <td>0.000000</td>\n",
       "      <td>1470.000000</td>\n",
       "      <td>0.729000</td>\n",
       "      <td>1.194000</td>\n",
       "      <td>0.000000</td>\n",
       "      <td>0.000000</td>\n",
       "      <td>1.000000</td>\n",
       "    </tr>\n",
       "    <tr>\n",
       "      <th>75%</th>\n",
       "      <td>279.000000</td>\n",
       "      <td>279.000000</td>\n",
       "      <td>2.000000</td>\n",
       "      <td>873.000000</td>\n",
       "      <td>1.000000</td>\n",
       "      <td>82.000000</td>\n",
       "      <td>16.000000</td>\n",
       "      <td>3.000000</td>\n",
       "      <td>30.000000</td>\n",
       "      <td>0.500000</td>\n",
       "      <td>1597.000000</td>\n",
       "      <td>0.756000</td>\n",
       "      <td>1.293000</td>\n",
       "      <td>0.000000</td>\n",
       "      <td>1.000000</td>\n",
       "      <td>1.000000</td>\n",
       "    </tr>\n",
       "    <tr>\n",
       "      <th>max</th>\n",
       "      <td>372.000000</td>\n",
       "      <td>372.000000</td>\n",
       "      <td>5.000000</td>\n",
       "      <td>2639.000000</td>\n",
       "      <td>1.000000</td>\n",
       "      <td>98.000000</td>\n",
       "      <td>23.000000</td>\n",
       "      <td>5.000000</td>\n",
       "      <td>30.000000</td>\n",
       "      <td>2.000000</td>\n",
       "      <td>2004.000000</td>\n",
       "      <td>0.837000</td>\n",
       "      <td>1.587000</td>\n",
       "      <td>1.000000</td>\n",
       "      <td>1.000000</td>\n",
       "      <td>1.000000</td>\n",
       "    </tr>\n",
       "  </tbody>\n",
       "</table>\n",
       "</div>"
      ],
      "text/plain": [
       "          level_0       index       Visit     MR Delay         M/F  \\\n",
       "count  373.000000  373.000000  373.000000   373.000000  373.000000   \n",
       "mean   186.000000  186.000000    1.882038   595.104558    0.428954   \n",
       "std    107.820066  107.820066    0.922843   635.485118    0.495592   \n",
       "min      0.000000    0.000000    1.000000     0.000000    0.000000   \n",
       "25%     93.000000   93.000000    1.000000     0.000000    0.000000   \n",
       "50%    186.000000  186.000000    2.000000   552.000000    0.000000   \n",
       "75%    279.000000  279.000000    2.000000   873.000000    1.000000   \n",
       "max    372.000000  372.000000    5.000000  2639.000000    1.000000   \n",
       "\n",
       "              Age        EDUC         SES        MMSE         CDR  \\\n",
       "count  373.000000  373.000000  373.000000  373.000000  373.000000   \n",
       "mean    77.013405   14.597855    2.436997   27.340483    0.290885   \n",
       "std      7.640957    2.876339    1.109307    3.673415    0.374557   \n",
       "min     60.000000    6.000000    1.000000    4.000000    0.000000   \n",
       "25%     71.000000   12.000000    2.000000   27.000000    0.000000   \n",
       "50%     77.000000   15.000000    2.000000   29.000000    0.000000   \n",
       "75%     82.000000   16.000000    3.000000   30.000000    0.500000   \n",
       "max     98.000000   23.000000    5.000000   30.000000    2.000000   \n",
       "\n",
       "              eTIV        nWBV         ASF  Group_Converted  Group_Demented  \\\n",
       "count   373.000000  373.000000  373.000000       373.000000      373.000000   \n",
       "mean   1488.128686    0.729568    1.195461         0.099196        0.391421   \n",
       "std     176.139286    0.037135    0.138092         0.299326        0.488724   \n",
       "min    1106.000000    0.644000    0.876000         0.000000        0.000000   \n",
       "25%    1357.000000    0.700000    1.099000         0.000000        0.000000   \n",
       "50%    1470.000000    0.729000    1.194000         0.000000        0.000000   \n",
       "75%    1597.000000    0.756000    1.293000         0.000000        1.000000   \n",
       "max    2004.000000    0.837000    1.587000         1.000000        1.000000   \n",
       "\n",
       "       Group_Nondemented  \n",
       "count         373.000000  \n",
       "mean            0.509383  \n",
       "std             0.500583  \n",
       "min             0.000000  \n",
       "25%             0.000000  \n",
       "50%             1.000000  \n",
       "75%             1.000000  \n",
       "max             1.000000  "
      ]
     },
     "execution_count": 23,
     "metadata": {},
     "output_type": "execute_result"
    }
   ],
   "source": [
    "data_explore.describe()"
   ]
  },
  {
   "cell_type": "markdown",
   "metadata": {},
   "source": [
    "### Box Plots"
   ]
  },
  {
   "cell_type": "code",
   "execution_count": 24,
   "metadata": {},
   "outputs": [
    {
     "data": {
      "text/plain": [
       "<AxesSubplot:xlabel='Group', ylabel='CDR'>"
      ]
     },
     "execution_count": 24,
     "metadata": {},
     "output_type": "execute_result"
    },
    {
     "data": {
      "image/png": "[encoded data removed]",
      "text/plain": [
       "<Figure size 640x480 with 1 Axes>"
      ]
     },
     "metadata": {},
     "output_type": "display_data"
    }
   ],
   "source": [
    "# box plot to visualize group and CDR\n",
    "sns.boxplot(x = 'Group', y = 'CDR', data = data_explore)"
   ]
  },
  {
   "cell_type": "code",
   "execution_count": 25,
   "metadata": {},
   "outputs": [
    {
     "data": {
      "text/plain": [
       "<AxesSubplot:xlabel='Group', ylabel='MMSE'>"
      ]
     },
     "execution_count": 25,
     "metadata": {},
     "output_type": "execute_result"
    },
    {
     "data": {
      "image/png": "[encoded data removed]",
      "text/plain": [
       "<Figure size 640x480 with 1 Axes>"
      ]
     },
     "metadata": {},
     "output_type": "display_data"
    }
   ],
   "source": [
    "# box plot to visualize group and MMSE\n",
    "sns.boxplot(x = 'Group', y = 'MMSE', data = data_explore)"
   ]
  },
  {
   "cell_type": "code",
   "execution_count": 26,
   "metadata": {},
   "outputs": [
    {
     "data": {
      "text/plain": [
       "<AxesSubplot:xlabel='Group', ylabel='Age'>"
      ]
     },
     "execution_count": 26,
     "metadata": {},
     "output_type": "execute_result"
    },
    {
     "data": {
      "image/png": "[encoded data removed]",
      "text/plain": [
       "<Figure size 640x480 with 1 Axes>"
      ]
     },
     "metadata": {},
     "output_type": "display_data"
    }
   ],
   "source": [
    "# box plot of group vs age\n",
    "sns.boxplot(x = 'Group', y = 'Age', data = data_explore)"
   ]
  },
  {
   "cell_type": "code",
   "execution_count": 27,
   "metadata": {},
   "outputs": [
    {
     "data": {
      "text/plain": [
       "<AxesSubplot:xlabel='Group', ylabel='nWBV'>"
      ]
     },
     "execution_count": 27,
     "metadata": {},
     "output_type": "execute_result"
    },
    {
     "data": {
      "image/png": "[encoded data removed]",
      "text/plain": [
       "<Figure size 640x480 with 1 Axes>"
      ]
     },
     "metadata": {},
     "output_type": "display_data"
    }
   ],
   "source": [
    "# box plot of group vs age\n",
    "sns.boxplot(x = 'Group', y = 'nWBV', data = data_explore)"
   ]
  },
  {
   "cell_type": "markdown",
   "metadata": {},
   "source": [
    "### Histograms"
   ]
  },
  {
   "cell_type": "code",
   "execution_count": 28,
   "metadata": {},
   "outputs": [
    {
     "data": {
      "image/png": "[encoded data removed]",
      "text/plain": [
       "<Figure size 600x300 with 2 Axes>"
      ]
     },
     "metadata": {},
     "output_type": "display_data"
    }
   ],
   "source": [
    "# Histogram showing the frequency of CDR with each group for the two sexs\n",
    "bins = np.linspace(data_explore.CDR.min(), data_explore.CDR.max(), 10)\n",
    "g = sns.FacetGrid(data_explore, col=\"M/F\", hue=\"Group\", palette=\"Set1\", col_wrap=2)\n",
    "g.map(plt.hist, 'CDR', bins=bins, ec=\"k\")\n",
    "\n",
    "g.axes[-1].legend()\n",
    "plt.show()"
   ]
  },
  {
   "cell_type": "code",
   "execution_count": 29,
   "metadata": {},
   "outputs": [
    {
     "data": {
      "text/plain": [
       "<AxesSubplot:xlabel='EDUC', ylabel='Count'>"
      ]
     },
     "execution_count": 29,
     "metadata": {},
     "output_type": "execute_result"
    },
    {
     "data": {
      "image/png": "[encoded data removed]",
      "text/plain": [
       "<Figure size 640x480 with 1 Axes>"
      ]
     },
     "metadata": {},
     "output_type": "display_data"
    }
   ],
   "source": [
    "# histogram for frquency of education for the 3 group\n",
    "bins = np.linspace(data_explore.EDUC.min(), data_explore.EDUC.max(), 20)\n",
    "sns.histplot(data_explore, x='EDUC',hue = 'Group', bins = bins, element = 'step',legend=True)"
   ]
  },
  {
   "cell_type": "code",
   "execution_count": 30,
   "metadata": {},
   "outputs": [
    {
     "data": {
      "text/plain": [
       "<AxesSubplot:xlabel='Age', ylabel='Count'>"
      ]
     },
     "execution_count": 30,
     "metadata": {},
     "output_type": "execute_result"
    },
    {
     "data": {
      "image/png": "[encoded data removed]",
      "text/plain": [
       "<Figure size 640x480 with 1 Axes>"
      ]
     },
     "metadata": {},
     "output_type": "display_data"
    }
   ],
   "source": [
    "# histogram for frquency of ages for the 3 group\n",
    "bins = np.linspace(data_explore.Age.min(), data_explore.Age.max(), 20)\n",
    "sns.histplot(data_explore, x='Age',hue = 'Group', bins = bins, element = 'step',legend=True)"
   ]
  },
  {
   "cell_type": "code",
   "execution_count": 31,
   "metadata": {},
   "outputs": [
    {
     "data": {
      "text/plain": [
       "<AxesSubplot:xlabel='SES', ylabel='Count'>"
      ]
     },
     "execution_count": 31,
     "metadata": {},
     "output_type": "execute_result"
    },
    {
     "data": {
      "image/png": "[encoded data removed]",
      "text/plain": [
       "<Figure size 640x480 with 1 Axes>"
      ]
     },
     "metadata": {},
     "output_type": "display_data"
    }
   ],
   "source": [
    "# histogram for frquency of SES for the 3 group\n",
    "bins = np.linspace(data_explore.SES.min(), data_explore.SES.max(), 20)\n",
    "sns.histplot(data_explore, x='SES',hue = 'Group', bins = bins, element = 'step',legend=True)"
   ]
  },
  {
   "cell_type": "code",
   "execution_count": 32,
   "metadata": {},
   "outputs": [
    {
     "data": {
      "text/plain": [
       "<AxesSubplot:xlabel='eTIV', ylabel='Count'>"
      ]
     },
     "execution_count": 32,
     "metadata": {},
     "output_type": "execute_result"
    },
    {
     "data": {
      "image/png": "[encoded data removed]",
      "text/plain": [
       "<Figure size 640x480 with 1 Axes>"
      ]
     },
     "metadata": {},
     "output_type": "display_data"
    }
   ],
   "source": [
    "# histogram for frquency of eTIV for the 3 group\n",
    "bins = np.linspace(data_explore.eTIV.min(), data_explore.eTIV.max(), 20)\n",
    "sns.histplot(data_explore, x='eTIV',hue = 'Group', bins = bins, element = 'step',legend=True)"
   ]
  },
  {
   "cell_type": "code",
   "execution_count": 33,
   "metadata": {},
   "outputs": [
    {
     "data": {
      "text/plain": [
       "<AxesSubplot:xlabel='nWBV', ylabel='Count'>"
      ]
     },
     "execution_count": 33,
     "metadata": {},
     "output_type": "execute_result"
    },
    {
     "data": {
      "image/png": "[encoded data removed]",
      "text/plain": [
       "<Figure size 640x480 with 1 Axes>"
      ]
     },
     "metadata": {},
     "output_type": "display_data"
    }
   ],
   "source": [
    "# histogram for frquency of nWBV for the 3 group\n",
    "bins = np.linspace(data_explore.nWBV.min(), data_explore.nWBV.max(), 20)\n",
    "sns.histplot(data_explore, x='nWBV',hue = 'Group', bins = bins, element = 'step',legend=True)"
   ]
  },
  {
   "cell_type": "code",
   "execution_count": 34,
   "metadata": {},
   "outputs": [
    {
     "data": {
      "text/plain": [
       "<AxesSubplot:xlabel='ASF', ylabel='Count'>"
      ]
     },
     "execution_count": 34,
     "metadata": {},
     "output_type": "execute_result"
    },
    {
     "data": {
      "image/png": "[encoded data removed]",
      "text/plain": [
       "<Figure size 640x480 with 1 Axes>"
      ]
     },
     "metadata": {},
     "output_type": "display_data"
    }
   ],
   "source": [
    "# histogram for frquency of ASF for the 3 group\n",
    "bins = np.linspace(data_explore.ASF.min(), data_explore.ASF.max(), 20)\n",
    "sns.histplot(data_explore, x='ASF',hue = 'Group', bins = bins, element = 'step',legend=True)"
   ]
  },
  {
   "cell_type": "code",
   "execution_count": 35,
   "metadata": {},
   "outputs": [
    {
     "data": {
      "text/plain": [
       "<AxesSubplot:xlabel='Visit', ylabel='Count'>"
      ]
     },
     "execution_count": 35,
     "metadata": {},
     "output_type": "execute_result"
    },
    {
     "data": {
      "image/png": "[encoded data removed]",
      "text/plain": [
       "<Figure size 640x480 with 1 Axes>"
      ]
     },
     "metadata": {},
     "output_type": "display_data"
    }
   ],
   "source": [
    "# Did dementia worsen over the visits?\n",
    "bins = np.linspace(data_explore.Visit.min(), data_explore.Visit.max(), 20)\n",
    "sns.histplot(data_explore, x='Visit',hue = 'Group', bins = bins, element = 'step',legend=True)\n",
    "# this is not the most accurate representation, would need to divide by the total number of patients at each visit"
   ]
  },
  {
   "cell_type": "markdown",
   "metadata": {},
   "source": [
    "### Statistical Analysis"
   ]
  },
  {
   "cell_type": "code",
   "execution_count": 36,
   "metadata": {},
   "outputs": [],
   "source": [
    "# table of p values\n",
    "df_pvalues = pd.DataFrame({'Comparison':['Demented v NonDemented','Nondemented v Converted','Demented v Converted','Total Comparison']})\n",
    "\n",
    "# table of f values\n",
    "df_fvalues = pd.DataFrame({'Comparison':['Demented v NonDemented','Nondemented v Converted','Demented v Converted','Total Comparison']})"
   ]
  },
  {
   "cell_type": "code",
   "execution_count": 37,
   "metadata": {},
   "outputs": [],
   "source": [
    "# Anova test function - compare all groups\n",
    "def TotalAnova (Group1,Group2,Group3,ColumnName):\n",
    "    f_val, p_val = stats.f_oneway(Group1,Group2,Group3)\n",
    "    f_val1, p_val1 = stats.f_oneway(Group1, Group2)  \n",
    "    f_val2, p_val2 = stats.f_oneway(Group3,Group2)  \n",
    "    f_val3, p_val3 = stats.f_oneway(Group3, Group1)  \n",
    "    if p_val < 0.05:\n",
    "        print(\"TOTAL: The P Value is less than alpha, therefore the null hypothesis is rejected and the groups are significantly different\")\n",
    "        print( \"ANOVA results: F=\", f_val, \", P =\", p_val)\n",
    "    else:\n",
    "        print(\"TOTAL: The P Value is greater than alpha, therefore the null hypothesis is not rejected and the groups are not significantly different\")\n",
    "        print( \"ANOVA results: F=\", f_val, \", P =\", p_val)\n",
    "    if p_val1 <0.05:\n",
    "        print(\"Group1 and Group2 are significantly different\")\n",
    "        print( \"ANOVA results: F=\", f_val1, \", P =\", p_val1)\n",
    "    else:\n",
    "        print(\"Group1 and Group2 are not significantly different\")\n",
    "        print( \"ANOVA results: F=\", f_val1, \", P =\", p_val1)\n",
    "    if p_val2 <0.05:\n",
    "        print(\"Group2 and Group3 are significantly different\")\n",
    "        print( \"ANOVA results: F=\", f_val2, \", P =\", p_val2)\n",
    "    else:\n",
    "        print(\"Group2 and Group3 are not significantly different\")\n",
    "        print( \"ANOVA results: F=\", f_val2, \", P =\", p_val2)\n",
    "    if p_val3 <0.05:\n",
    "        print(\"Group1 and Group3 are significantly different\")\n",
    "        print( \"ANOVA results: F=\", f_val3, \", P =\", p_val3)\n",
    "    else:\n",
    "        print(\"Group1 and Group3 are not significantly different\")\n",
    "        print( \"ANOVA results: F=\", f_val3, \", P =\", p_val3)\n",
    "    pvalues = [p_val,p_val1,p_val2,p_val3]\n",
    "    df_pvalues[ColumnName]=pvalues\n",
    "    fvalues = [f_val,f_val1,f_val2,f_val3]\n",
    "    df_fvalues[ColumnName] = fvalues\n",
    "    return df_fvalues, df_pvalues"
   ]
  },
  {
   "cell_type": "code",
   "execution_count": 38,
   "metadata": {},
   "outputs": [
    {
     "name": "stdout",
     "output_type": "stream",
     "text": [
      "TOTAL: The P Value is less than alpha, therefore the null hypothesis is rejected and the groups are significantly different\n",
      "ANOVA results: F= 20.58103386993973 , P = 3.3489316291000117e-09\n",
      "Group1 and Group2 are significantly different\n",
      "ANOVA results: F= 40.06628252307995 , P = 7.904899553448725e-10\n",
      "Group2 and Group3 are significantly different\n",
      "ANOVA results: F= 6.544760418385766 , P = 0.011176131047061335\n",
      "Group1 and Group3 are not significantly different\n",
      "ANOVA results: F= 1.5280781908267944 , P = 0.2180028804501464\n"
     ]
    },
    {
     "data": {
      "text/plain": [
       "(                Comparison       nWBV\n",
       " 0   Demented v NonDemented  20.581034\n",
       " 1  Nondemented v Converted  40.066283\n",
       " 2     Demented v Converted   6.544760\n",
       " 3         Total Comparison   1.528078,\n",
       "                 Comparison          nWBV\n",
       " 0   Demented v NonDemented  3.348932e-09\n",
       " 1  Nondemented v Converted  7.904900e-10\n",
       " 2     Demented v Converted  1.117613e-02\n",
       " 3         Total Comparison  2.180029e-01)"
      ]
     },
     "execution_count": 38,
     "metadata": {},
     "output_type": "execute_result"
    }
   ],
   "source": [
    "# Anova test on nWBV\n",
    "grouped_test=data_explore[['Group', 'nWBV']].groupby(['Group'])\n",
    "TotalAnova(grouped_test.get_group('Demented')['nWBV'], grouped_test.get_group('Nondemented')['nWBV'], grouped_test.get_group('Converted')['nWBV'],'nWBV')"
   ]
  },
  {
   "cell_type": "code",
   "execution_count": 39,
   "metadata": {},
   "outputs": [
    {
     "name": "stdout",
     "output_type": "stream",
     "text": [
      "TOTAL: The P Value is greater than alpha, therefore the null hypothesis is not rejected and the groups are not significantly different\n",
      "ANOVA results: F= 0.6740185204155615 , P = 0.5102810359581578\n",
      "Group1 and Group2 are not significantly different\n",
      "ANOVA results: F= 0.23693890104875495 , P = 0.6267450606240466\n",
      "Group2 and Group3 are not significantly different\n",
      "ANOVA results: F= 1.2843978040170665 , P = 0.2582890846795186\n",
      "Group1 and Group3 are not significantly different\n",
      "ANOVA results: F= 0.7491031334243587 , P = 0.387906064072459\n"
     ]
    },
    {
     "data": {
      "text/plain": [
       "(                Comparison       nWBV      eTIV\n",
       " 0   Demented v NonDemented  20.581034  0.674019\n",
       " 1  Nondemented v Converted  40.066283  0.236939\n",
       " 2     Demented v Converted   6.544760  1.284398\n",
       " 3         Total Comparison   1.528078  0.749103,\n",
       "                 Comparison          nWBV      eTIV\n",
       " 0   Demented v NonDemented  3.348932e-09  0.510281\n",
       " 1  Nondemented v Converted  7.904900e-10  0.626745\n",
       " 2     Demented v Converted  1.117613e-02  0.258289\n",
       " 3         Total Comparison  2.180029e-01  0.387906)"
      ]
     },
     "execution_count": 39,
     "metadata": {},
     "output_type": "execute_result"
    }
   ],
   "source": [
    "# Anova test on eTIV\n",
    "grouped_test=data_explore[['Group', 'eTIV']].groupby(['Group'])\n",
    "TotalAnova(grouped_test.get_group('Demented')['eTIV'], grouped_test.get_group('Nondemented')['eTIV'], grouped_test.get_group('Converted')['eTIV'],'eTIV')"
   ]
  },
  {
   "cell_type": "code",
   "execution_count": 40,
   "metadata": {},
   "outputs": [
    {
     "name": "stdout",
     "output_type": "stream",
     "text": [
      "TOTAL: The P Value is greater than alpha, therefore the null hypothesis is not rejected and the groups are not significantly different\n",
      "ANOVA results: F= 0.3814421553349557 , P = 0.6831441026111751\n",
      "Group1 and Group2 are not significantly different\n",
      "ANOVA results: F= 0.1408227936353781 , P = 0.7077026019359458\n",
      "Group2 and Group3 are not significantly different\n",
      "ANOVA results: F= 0.729514175725481 , P = 0.39394915111556694\n",
      "Group1 and Group3 are not significantly different\n",
      "ANOVA results: F= 0.4071900175096386 , P = 0.5242056995296573\n"
     ]
    },
    {
     "data": {
      "text/plain": [
       "(                Comparison       nWBV      eTIV       ASF\n",
       " 0   Demented v NonDemented  20.581034  0.674019  0.381442\n",
       " 1  Nondemented v Converted  40.066283  0.236939  0.140823\n",
       " 2     Demented v Converted   6.544760  1.284398  0.729514\n",
       " 3         Total Comparison   1.528078  0.749103  0.407190,\n",
       "                 Comparison          nWBV      eTIV       ASF\n",
       " 0   Demented v NonDemented  3.348932e-09  0.510281  0.683144\n",
       " 1  Nondemented v Converted  7.904900e-10  0.626745  0.707703\n",
       " 2     Demented v Converted  1.117613e-02  0.258289  0.393949\n",
       " 3         Total Comparison  2.180029e-01  0.387906  0.524206)"
      ]
     },
     "execution_count": 40,
     "metadata": {},
     "output_type": "execute_result"
    }
   ],
   "source": [
    "# Anova test on ASF\n",
    "grouped_test=data_explore[['Group', 'ASF']].groupby(['Group'])\n",
    "TotalAnova(grouped_test.get_group('Demented')['ASF'], grouped_test.get_group('Nondemented')['ASF'], grouped_test.get_group('Converted')['ASF'],'ASF')"
   ]
  },
  {
   "cell_type": "code",
   "execution_count": 41,
   "metadata": {},
   "outputs": [
    {
     "name": "stdout",
     "output_type": "stream",
     "text": [
      "TOTAL: The P Value is less than alpha, therefore the null hypothesis is rejected and the groups are significantly different\n",
      "ANOVA results: F= 13.48571931311858 , P = 2.2225709446210596e-06\n",
      "Group1 and Group2 are significantly different\n",
      "ANOVA results: F= 22.602752516340356 , P = 2.9662585795750533e-06\n",
      "Group2 and Group3 are not significantly different\n",
      "ANOVA results: F= 0.42522990686147216 , P = 0.5150044834547056\n",
      "Group1 and Group3 are significantly different\n",
      "ANOVA results: F= 11.80418695430933 , P = 0.00073292009499497\n"
     ]
    },
    {
     "data": {
      "text/plain": [
       "(                Comparison       nWBV      eTIV       ASF       EDUC\n",
       " 0   Demented v NonDemented  20.581034  0.674019  0.381442  13.485719\n",
       " 1  Nondemented v Converted  40.066283  0.236939  0.140823  22.602753\n",
       " 2     Demented v Converted   6.544760  1.284398  0.729514   0.425230\n",
       " 3         Total Comparison   1.528078  0.749103  0.407190  11.804187,\n",
       "                 Comparison          nWBV      eTIV       ASF      EDUC\n",
       " 0   Demented v NonDemented  3.348932e-09  0.510281  0.683144  0.000002\n",
       " 1  Nondemented v Converted  7.904900e-10  0.626745  0.707703  0.000003\n",
       " 2     Demented v Converted  1.117613e-02  0.258289  0.393949  0.515004\n",
       " 3         Total Comparison  2.180029e-01  0.387906  0.524206  0.000733)"
      ]
     },
     "execution_count": 41,
     "metadata": {},
     "output_type": "execute_result"
    }
   ],
   "source": [
    "# Anova test on EDUC\n",
    "grouped_test=data_explore[['Group', 'EDUC']].groupby(['Group'])\n",
    "TotalAnova(grouped_test.get_group('Demented')['EDUC'], grouped_test.get_group('Nondemented')['EDUC'], grouped_test.get_group('Converted')['EDUC'],'EDUC')"
   ]
  },
  {
   "cell_type": "code",
   "execution_count": 42,
   "metadata": {},
   "outputs": [
    {
     "name": "stdout",
     "output_type": "stream",
     "text": [
      "TOTAL: The P Value is less than alpha, therefore the null hypothesis is rejected and the groups are significantly different\n",
      "ANOVA results: F= 11.530847753745375 , P = 1.3870277899673076e-05\n",
      "Group1 and Group2 are significantly different\n",
      "ANOVA results: F= 5.30187990329756 , P = 0.02191676292704129\n",
      "Group2 and Group3 are significantly different\n",
      "ANOVA results: F= 12.80273773602832 , P = 0.0004237982861456631\n",
      "Group1 and Group3 are significantly different\n",
      "ANOVA results: F= 21.189273981046796 , P = 7.812385870291958e-06\n"
     ]
    },
    {
     "data": {
      "text/plain": [
       "(                Comparison       nWBV      eTIV       ASF       EDUC  \\\n",
       " 0   Demented v NonDemented  20.581034  0.674019  0.381442  13.485719   \n",
       " 1  Nondemented v Converted  40.066283  0.236939  0.140823  22.602753   \n",
       " 2     Demented v Converted   6.544760  1.284398  0.729514   0.425230   \n",
       " 3         Total Comparison   1.528078  0.749103  0.407190  11.804187   \n",
       " \n",
       "          SES  \n",
       " 0  11.530848  \n",
       " 1   5.301880  \n",
       " 2  12.802738  \n",
       " 3  21.189274  ,\n",
       "                 Comparison          nWBV      eTIV       ASF      EDUC  \\\n",
       " 0   Demented v NonDemented  3.348932e-09  0.510281  0.683144  0.000002   \n",
       " 1  Nondemented v Converted  7.904900e-10  0.626745  0.707703  0.000003   \n",
       " 2     Demented v Converted  1.117613e-02  0.258289  0.393949  0.515004   \n",
       " 3         Total Comparison  2.180029e-01  0.387906  0.524206  0.000733   \n",
       " \n",
       "         SES  \n",
       " 0  0.000014  \n",
       " 1  0.021917  \n",
       " 2  0.000424  \n",
       " 3  0.000008  )"
      ]
     },
     "execution_count": 42,
     "metadata": {},
     "output_type": "execute_result"
    }
   ],
   "source": [
    "# Anova test on SES\n",
    "grouped_test=data_explore[['Group', 'SES']].groupby(['Group'])\n",
    "TotalAnova(grouped_test.get_group('Demented')['SES'], grouped_test.get_group('Nondemented')['SES'], grouped_test.get_group('Converted')['SES'],'SES')"
   ]
  },
  {
   "cell_type": "code",
   "execution_count": 43,
   "metadata": {},
   "outputs": [
    {
     "name": "stdout",
     "output_type": "stream",
     "text": [
      "TOTAL: The P Value is less than alpha, therefore the null hypothesis is rejected and the groups are significantly different\n",
      "ANOVA results: F= 13.413107418661376 , P = 2.378227386028066e-06\n",
      "Group1 and Group2 are significantly different\n",
      "ANOVA results: F= 25.800062133854073 , P = 6.309924275544983e-07\n",
      "Group2 and Group3 are not significantly different\n",
      "ANOVA results: F= 0.12832488129757547 , P = 0.720511077023982\n",
      "Group1 and Group3 are significantly different\n",
      "ANOVA results: F= 6.895691251561899 , P = 0.009380187237640896\n"
     ]
    },
    {
     "data": {
      "text/plain": [
       "(                Comparison       nWBV      eTIV       ASF       EDUC  \\\n",
       " 0   Demented v NonDemented  20.581034  0.674019  0.381442  13.485719   \n",
       " 1  Nondemented v Converted  40.066283  0.236939  0.140823  22.602753   \n",
       " 2     Demented v Converted   6.544760  1.284398  0.729514   0.425230   \n",
       " 3         Total Comparison   1.528078  0.749103  0.407190  11.804187   \n",
       " \n",
       "          SES        M/F  \n",
       " 0  11.530848  13.413107  \n",
       " 1   5.301880  25.800062  \n",
       " 2  12.802738   0.128325  \n",
       " 3  21.189274   6.895691  ,\n",
       "                 Comparison          nWBV      eTIV       ASF      EDUC  \\\n",
       " 0   Demented v NonDemented  3.348932e-09  0.510281  0.683144  0.000002   \n",
       " 1  Nondemented v Converted  7.904900e-10  0.626745  0.707703  0.000003   \n",
       " 2     Demented v Converted  1.117613e-02  0.258289  0.393949  0.515004   \n",
       " 3         Total Comparison  2.180029e-01  0.387906  0.524206  0.000733   \n",
       " \n",
       "         SES           M/F  \n",
       " 0  0.000014  2.378227e-06  \n",
       " 1  0.021917  6.309924e-07  \n",
       " 2  0.000424  7.205111e-01  \n",
       " 3  0.000008  9.380187e-03  )"
      ]
     },
     "execution_count": 43,
     "metadata": {},
     "output_type": "execute_result"
    }
   ],
   "source": [
    "# Anova test on M/F\n",
    "grouped_test=data_explore[['Group', 'M/F']].groupby(['Group'])\n",
    "TotalAnova(grouped_test.get_group('Demented')['M/F'], grouped_test.get_group('Nondemented')['M/F'], grouped_test.get_group('Converted')['M/F'],'M/F')"
   ]
  },
  {
   "cell_type": "code",
   "execution_count": 44,
   "metadata": {},
   "outputs": [
    {
     "name": "stdout",
     "output_type": "stream",
     "text": [
      "TOTAL: The P Value is less than alpha, therefore the null hypothesis is rejected and the groups are significantly different\n",
      "ANOVA results: F= 3.2345653480814023 , P = 0.04049349679884828\n",
      "Group1 and Group2 are significantly different\n",
      "ANOVA results: F= 5.616470725982299 , P = 0.018360193702926086\n",
      "Group2 and Group3 are not significantly different\n",
      "ANOVA results: F= 0.10839996839767585 , P = 0.7422794248941007\n",
      "Group1 and Group3 are not significantly different\n",
      "ANOVA results: F= 3.5683378675539124 , P = 0.060490414430433036\n"
     ]
    },
    {
     "data": {
      "text/plain": [
       "(                Comparison       nWBV      eTIV       ASF       EDUC  \\\n",
       " 0   Demented v NonDemented  20.581034  0.674019  0.381442  13.485719   \n",
       " 1  Nondemented v Converted  40.066283  0.236939  0.140823  22.602753   \n",
       " 2     Demented v Converted   6.544760  1.284398  0.729514   0.425230   \n",
       " 3         Total Comparison   1.528078  0.749103  0.407190  11.804187   \n",
       " \n",
       "          SES        M/F     Visit  \n",
       " 0  11.530848  13.413107  3.234565  \n",
       " 1   5.301880  25.800062  5.616471  \n",
       " 2  12.802738   0.128325  0.108400  \n",
       " 3  21.189274   6.895691  3.568338  ,\n",
       "                 Comparison          nWBV      eTIV       ASF      EDUC  \\\n",
       " 0   Demented v NonDemented  3.348932e-09  0.510281  0.683144  0.000002   \n",
       " 1  Nondemented v Converted  7.904900e-10  0.626745  0.707703  0.000003   \n",
       " 2     Demented v Converted  1.117613e-02  0.258289  0.393949  0.515004   \n",
       " 3         Total Comparison  2.180029e-01  0.387906  0.524206  0.000733   \n",
       " \n",
       "         SES           M/F     Visit  \n",
       " 0  0.000014  2.378227e-06  0.040493  \n",
       " 1  0.021917  6.309924e-07  0.018360  \n",
       " 2  0.000424  7.205111e-01  0.742279  \n",
       " 3  0.000008  9.380187e-03  0.060490  )"
      ]
     },
     "execution_count": 44,
     "metadata": {},
     "output_type": "execute_result"
    }
   ],
   "source": [
    "# Anova test on Visit\n",
    "grouped_test=data_explore[['Group', 'Visit']].groupby(['Group'])\n",
    "TotalAnova(grouped_test.get_group('Demented')['Visit'], grouped_test.get_group('Nondemented')['Visit'], grouped_test.get_group('Converted')['Visit'],'Visit')"
   ]
  },
  {
   "cell_type": "code",
   "execution_count": 45,
   "metadata": {},
   "outputs": [
    {
     "name": "stdout",
     "output_type": "stream",
     "text": [
      "TOTAL: The P Value is less than alpha, therefore the null hypothesis is rejected and the groups are significantly different\n",
      "ANOVA results: F= 3.1326616127075932 , P = 0.04476028095817546\n",
      "Group1 and Group2 are not significantly different\n",
      "ANOVA results: F= 0.9055688814215849 , P = 0.3419809831503381\n",
      "Group2 and Group3 are not significantly different\n",
      "ANOVA results: F= 3.5311865948607797 , P = 0.06151738330051571\n",
      "Group1 and Group3 are significantly different\n",
      "ANOVA results: F= 7.282905651666435 , P = 0.007620457386757697\n"
     ]
    },
    {
     "data": {
      "text/plain": [
       "(                Comparison       nWBV      eTIV       ASF       EDUC  \\\n",
       " 0   Demented v NonDemented  20.581034  0.674019  0.381442  13.485719   \n",
       " 1  Nondemented v Converted  40.066283  0.236939  0.140823  22.602753   \n",
       " 2     Demented v Converted   6.544760  1.284398  0.729514   0.425230   \n",
       " 3         Total Comparison   1.528078  0.749103  0.407190  11.804187   \n",
       " \n",
       "          SES        M/F     Visit       Age  \n",
       " 0  11.530848  13.413107  3.234565  3.132662  \n",
       " 1   5.301880  25.800062  5.616471  0.905569  \n",
       " 2  12.802738   0.128325  0.108400  3.531187  \n",
       " 3  21.189274   6.895691  3.568338  7.282906  ,\n",
       "                 Comparison          nWBV      eTIV       ASF      EDUC  \\\n",
       " 0   Demented v NonDemented  3.348932e-09  0.510281  0.683144  0.000002   \n",
       " 1  Nondemented v Converted  7.904900e-10  0.626745  0.707703  0.000003   \n",
       " 2     Demented v Converted  1.117613e-02  0.258289  0.393949  0.515004   \n",
       " 3         Total Comparison  2.180029e-01  0.387906  0.524206  0.000733   \n",
       " \n",
       "         SES           M/F     Visit       Age  \n",
       " 0  0.000014  2.378227e-06  0.040493  0.044760  \n",
       " 1  0.021917  6.309924e-07  0.018360  0.341981  \n",
       " 2  0.000424  7.205111e-01  0.742279  0.061517  \n",
       " 3  0.000008  9.380187e-03  0.060490  0.007620  )"
      ]
     },
     "execution_count": 45,
     "metadata": {},
     "output_type": "execute_result"
    }
   ],
   "source": [
    "# Anova test on Age\n",
    "grouped_test=data_explore[['Group', 'Age']].groupby(['Group'])\n",
    "TotalAnova(grouped_test.get_group('Demented')['Age'], grouped_test.get_group('Nondemented')['Age'], grouped_test.get_group('Converted')['Age'],'Age')"
   ]
  },
  {
   "cell_type": "code",
   "execution_count": 46,
   "metadata": {},
   "outputs": [],
   "source": [
    "# make a new table in database for pvalues\n",
    "df_pvalues.to_sql('P_Values',conn, if_exists='replace')\n",
    "# make a new table in database for fvalues\n",
    "df_fvalues.to_sql('F_Values',conn, if_exists='replace')"
   ]
  }
 ],
 "metadata": {
  "kernelspec": {
   "display_name": "Python 3.10.1 64-bit",
   "language": "python",
   "name": "python3"
  },
  "language_info": {
   "codemirror_mode": {
    "name": "ipython",
    "version": 3
   },
   "file_extension": ".py",
   "mimetype": "text/x-python",
   "name": "python",
   "nbconvert_exporter": "python",
   "pygments_lexer": "ipython3",
   "version": "3.10.1"
  },
  "orig_nbformat": 4,
  "vscode": {
   "interpreter": {
    "hash": "d404347084406b8c6d005244449b7dd5f725b5df89987d39dd27b81ada4d10f3"
   }
  }
 },
 "nbformat": 4,
 "nbformat_minor": 2
}
